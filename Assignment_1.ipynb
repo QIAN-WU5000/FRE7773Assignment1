{
 "cells": [
  {
   "cell_type": "markdown",
   "metadata": {},
   "source": [
    "Before you turn this problem in, make sure everything runs as expected. First, **restart the kernel** (in the menubar, select Kernel$\\rightarrow$Restart) and then **run all cells** (in the menubar, select Cell$\\rightarrow$Run All).\n",
    "\n",
    "Make sure you fill in any place that says `YOUR CODE HERE` or \"YOUR ANSWER HERE\", as well as your name and collaborators below:"
   ]
  },
  {
   "cell_type": "code",
   "execution_count": 1,
   "metadata": {},
   "outputs": [],
   "source": [
    "NAME = \"Qian Wu\"\n",
    "COLLABORATORS = \"None\""
   ]
  },
  {
   "cell_type": "markdown",
   "metadata": {},
   "source": [
    "---"
   ]
  },
  {
   "cell_type": "markdown",
   "metadata": {},
   "source": [
    "$$\n",
    "\\newcommand{\\x}{\\mathbf{x}}\n",
    "\\newcommand{\\y}{\\mathbf{y}}\n",
    "\\newcommand{\\price}{{p}}\n",
    "\\newcommand{\\ret}{{r}}\n",
    "\\newcommand{\\tp}{{(t)}}\n",
    "\\newcommand{\\aapl}{{\\text{AAPL}}}\n",
    "\\newcommand{\\ba}{{\\text{BA}}}\n",
    "\\newcommand{\\spy}{{\\text{SPY}}}\n",
    "$$"
   ]
  },
  {
   "cell_type": "markdown",
   "metadata": {},
   "source": [
    "# Assignment: Using Machine Learning for Hedging\n",
    "\n",
    "Welcome to the first assignment !\n",
    "\n",
    "# Problem description\n",
    "\n",
    "We will solve a Regression task that is very common in Finance\n",
    "- Given the return of \"the market\", predict the return of a particular stock\n",
    "\n",
    "That is\n",
    "- Given the return of a proxy for \"the market\" at time $t$, predict the return of, e.g., Apple at time $t$.\n",
    "\n",
    "As we will explain,\n",
    "being able to predict the relationship between two financial instruments opens up possibilities\n",
    "- Use one instrument to \"hedge\" or reduce the risk of holding the other\n",
    "- Create strategies whose returns are independent of \"the market\"\n",
    "    - Hopefully make a profit regardless of whether the market goes up or down"
   ]
  },
  {
   "cell_type": "markdown",
   "metadata": {},
   "source": [
    "## Goal\n",
    "\n",
    "You will create models of increasing complexity in order to explain the return of Apple (ticker $\\aapl$)\n",
    "- The first model will have a single feature: return of the market proxy, ticker $\\spy$\n",
    "- Subsequent models will add the return of other tickers as additional features"
   ]
  },
  {
   "cell_type": "markdown",
   "metadata": {},
   "source": [
    "## Learning Objectives\n",
    "- Learn how to solve a Regression task\n",
    "- Become facile in the `sklearn` toolkit for Machine Learning"
   ]
  },
  {
   "cell_type": "markdown",
   "metadata": {},
   "source": [
    "## How to report your answers\n",
    "We will mix explanation of the topic with tasks that you must complete. \n",
    "\n",
    "Look for \n",
    "the string \"**Question**\" to find a task that you must perform.\n",
    "\n",
    "Most of the tasks will require you to create some code at the location indicated by\n",
    "\n",
    ">`# YOUR CODE HERE\n",
    "raise NotImplementedError()`\n",
    "\n",
    "- Replace `raise NotImplementedError()` with your own code"
   ]
  },
  {
   "cell_type": "markdown",
   "metadata": {},
   "source": [
    "# Standard imports"
   ]
  },
  {
   "cell_type": "code",
   "execution_count": 2,
   "metadata": {
    "deletable": false,
    "editable": false,
    "nbgrader": {
     "cell_type": "code",
     "checksum": "7a3fa8b4455f72468d048d394686587d",
     "grade": false,
     "grade_id": "cell-99b5f8a456b0246a",
     "locked": true,
     "schema_version": 3,
     "solution": false,
     "task": false
    }
   },
   "outputs": [],
   "source": [
    "# Standard imports\n",
    "import numpy as np\n",
    "import pandas as pd\n",
    "import matplotlib.pyplot as plt\n",
    "\n",
    "import sklearn\n",
    "\n",
    "import os\n",
    "import math\n",
    "\n",
    "%matplotlib inline"
   ]
  },
  {
   "cell_type": "code",
   "execution_count": 3,
   "metadata": {
    "deletable": false,
    "editable": false,
    "nbgrader": {
     "cell_type": "code",
     "checksum": "7b882bb499968178ee01aeae81e5685a",
     "grade": false,
     "grade_id": "cell-4423599e20464120",
     "locked": true,
     "schema_version": 3,
     "solution": false,
     "task": false
    }
   },
   "outputs": [],
   "source": [
    "from IPython.core.interactiveshell import InteractiveShell\n",
    "InteractiveShell.ast_node_interactivity = \"all\"\n",
    "\n",
    "# Reload all modules imported with %aimport\n",
    "%load_ext autoreload\n",
    "%autoreload 1\n",
    "\n",
    "# Import nn_helper module\n",
    "import helper\n",
    "%aimport helper\n",
    "\n",
    "helper = helper.HELPER()"
   ]
  },
  {
   "cell_type": "markdown",
   "metadata": {},
   "source": [
    "# Get The data\n",
    "\n",
    "\n",
    "The first step in our Recipe is Get the Data.\n",
    "\n",
    "The data are the daily prices of a number of individual equities and equity indices.\n",
    "\n",
    "The prices are arranged in a series in ascending date order (a timeseries).\n",
    "- There are many `.csv` files for equity or index in the directory `DATA_DIR`"
   ]
  },
  {
   "cell_type": "markdown",
   "metadata": {},
   "source": [
    "## API for students\n",
    "\n",
    "We will define some utility routines to help you.\n",
    "\n",
    "In this way, you can focus on the learning objectives rather than data manipulation.\n",
    "\n",
    "This is not representative of the \"real world\"; you will need to complete data manipulation tasks in later assignments."
   ]
  },
  {
   "cell_type": "markdown",
   "metadata": {},
   "source": [
    "We provide a class `HELPER`\n",
    "- Instantiated as \n",
    ">    `helper = helper.HELPER()`\n",
    "\n",
    "With methods\n",
    "- `getData`:\n",
    "    - Get examples for a list of equity tickers and an index ticker.\n",
    "    - Called as\n",
    "    > `data = helper.getData( tickers, index_ticker, attrs)`\n",
    "        - `tickers` is a list of tickers\n",
    "        - `index` is the ticker of the index  \n",
    "        - `attrs` is a list of data attributes\n",
    "   "
   ]
  },
  {
   "cell_type": "markdown",
   "metadata": {},
   "source": [
    "**Question:**\n",
    "- Create code to\n",
    "    - Get the adjusted close price of $\\aapl$ and $\\spy$ \n",
    "    - Assign the result to variable `data`\n",
    "\n",
    "**Hint:**\n",
    "- Use the `getData` method from the helper class\n",
    "    - The list of tickers contains just the single ticker $\\aapl$\n",
    "    - The index ticker is $\\spy$\n",
    "    - The list of attributes is the single attribute `Adj Close`\n"
   ]
  },
  {
   "cell_type": "code",
   "execution_count": 4,
   "metadata": {
    "deletable": false,
    "nbgrader": {
     "cell_type": "code",
     "checksum": "99daafa3cfc32b40857d84ccee25e107",
     "grade": false,
     "grade_id": "cell-8ff9c8c031ab3ee3",
     "locked": false,
     "schema_version": 3,
     "solution": true,
     "task": false
    }
   },
   "outputs": [],
   "source": [
    "ticker = \"AAPL\" \n",
    "index_ticker = \"SPY\"\n",
    "dateAttr = \"Dt\"\n",
    "priceAttr = \"Adj Close\" \n",
    "\n",
    "# YOUR CODE HERE\n",
    "# Tickers and attrs should be lists\n",
    "data = helper.getData([ticker], index_ticker, [priceAttr])"
   ]
  },
  {
   "cell_type": "markdown",
   "metadata": {},
   "source": [
    "# Have a look at the data\n",
    "\n",
    "We will not go through all steps in the Recipe, nor in depth.\n",
    "\n",
    "But here's a peek at the data you retrieved"
   ]
  },
  {
   "cell_type": "code",
   "execution_count": 5,
   "metadata": {},
   "outputs": [
    {
     "data": {
      "text/html": [
       "<div>\n",
       "<style scoped>\n",
       "    .dataframe tbody tr th:only-of-type {\n",
       "        vertical-align: middle;\n",
       "    }\n",
       "\n",
       "    .dataframe tbody tr th {\n",
       "        vertical-align: top;\n",
       "    }\n",
       "\n",
       "    .dataframe thead th {\n",
       "        text-align: right;\n",
       "    }\n",
       "</style>\n",
       "<table border=\"1\" class=\"dataframe\">\n",
       "  <thead>\n",
       "    <tr style=\"text-align: right;\">\n",
       "      <th></th>\n",
       "      <th>AAPL_Adj_Close</th>\n",
       "      <th>SPY_Adj_Close</th>\n",
       "    </tr>\n",
       "    <tr>\n",
       "      <th>Dt</th>\n",
       "      <th></th>\n",
       "      <th></th>\n",
       "    </tr>\n",
       "  </thead>\n",
       "  <tbody>\n",
       "    <tr>\n",
       "      <th>2017-01-03</th>\n",
       "      <td>110.9539</td>\n",
       "      <td>213.8428</td>\n",
       "    </tr>\n",
       "    <tr>\n",
       "      <th>2017-01-04</th>\n",
       "      <td>110.8297</td>\n",
       "      <td>215.1149</td>\n",
       "    </tr>\n",
       "    <tr>\n",
       "      <th>2017-01-05</th>\n",
       "      <td>111.3933</td>\n",
       "      <td>214.9440</td>\n",
       "    </tr>\n",
       "    <tr>\n",
       "      <th>2017-01-06</th>\n",
       "      <td>112.6351</td>\n",
       "      <td>215.7131</td>\n",
       "    </tr>\n",
       "    <tr>\n",
       "      <th>2017-01-09</th>\n",
       "      <td>113.6668</td>\n",
       "      <td>215.0010</td>\n",
       "    </tr>\n",
       "  </tbody>\n",
       "</table>\n",
       "</div>"
      ],
      "text/plain": [
       "            AAPL_Adj_Close  SPY_Adj_Close\n",
       "Dt                                       \n",
       "2017-01-03        110.9539       213.8428\n",
       "2017-01-04        110.8297       215.1149\n",
       "2017-01-05        111.3933       214.9440\n",
       "2017-01-06        112.6351       215.7131\n",
       "2017-01-09        113.6668       215.0010"
      ]
     },
     "execution_count": 5,
     "metadata": {},
     "output_type": "execute_result"
    }
   ],
   "source": [
    "data.head()"
   ]
  },
  {
   "cell_type": "code",
   "execution_count": 6,
   "metadata": {},
   "outputs": [
    {
     "name": "stdout",
     "output_type": "stream",
     "text": [
      "Start time:  2017-01-03\n",
      "End time:  2019-10-31\n"
     ]
    }
   ],
   "source": [
    "# Print the Start time and End time\n",
    "print(\"Start time: \", data.index.min())\n",
    "print(\"End time: \", data.index.max())"
   ]
  },
  {
   "cell_type": "markdown",
   "metadata": {},
   "source": [
    "Expected outputs should be similar to this:   \n",
    "<img src=\"./images/data.png\" width=\"300\" height=\"200\"/>\n"
   ]
  },
  {
   "cell_type": "markdown",
   "metadata": {},
   "source": [
    "## Create DataFrame of price levels for the training examples\n",
    "\n",
    "The training examples will be stored in a DataFrame.\n",
    "\n",
    "- The DataFrame should have two columns: the price level for the ticker and for the index\n",
    "- The minimum date in the DataFrame should be **the trading day before** `start_dt`\n",
    "    - That is: the latest date for which there is data and which is less than `start_dt`\n",
    "    - For example, if `start_dt` is a Monday, the \"day before\" would be Friday, not Sunday.\n",
    "        - Similarly for the case where the day before `start_dt` is a holiday\n",
    "- The maximum date in the DataFrame should be `end_dt`\n",
    "\n",
    "The reason we are adding one day prior to `start_dt`\n",
    "- We want to have returns (percent price changes) from `start_dt` onwards\n",
    "- In order to compute a return for `start_dt`, we need the level from the prior day\n",
    "\n",
    "**Question:**\n",
    "\n",
    "- Complete the function `getRange()`\n",
    "    - To return the subset of rows of our examples\n",
    "    - Beginning on the **trading day before** date `start_dt`\n",
    "    - Ending on date `end_dt`\n"
   ]
  },
  {
   "cell_type": "code",
   "execution_count": 7,
   "metadata": {
    "deletable": false,
    "nbgrader": {
     "cell_type": "code",
     "checksum": "9e524ba9acd205d806ff10bf9b73694b",
     "grade": false,
     "grade_id": "cell-c0e65a9eb6acc70e",
     "locked": false,
     "schema_version": 3,
     "solution": true,
     "task": false
    }
   },
   "outputs": [
    {
     "name": "stdout",
     "output_type": "stream",
     "text": [
      "            AAPL_Adj_Close  SPY_Adj_Close\n",
      "Dt                                       \n",
      "2017-12-29        164.2589       258.2823\n",
      "2018-01-02        167.1999       260.1310\n",
      "2018-01-03        167.1708       261.7763\n",
      "2018-01-04        167.9473       262.8796\n",
      "2018-01-05        169.8594       264.6314\n"
     ]
    }
   ],
   "source": [
    "start_dt = \"2018-01-02\"\n",
    "end_dt = \"2018-09-28\"\n",
    "train_data_price = None\n",
    "\n",
    "# Set variable train_data_price to be a DataFrame with two columns\n",
    "## AAPL_Adj_Close, SPY_Adj_Close\n",
    "## with dates as the index\n",
    "## Having minimum date equal to THE DAY BEFORE start_dt\n",
    "## Having maximum date equal to end_dt\n",
    "\n",
    "def getRange(df, start_dt, end_dt):\n",
    "    '''\n",
    "    Return the the subset of rows of DataFrame df\n",
    "    restricted to dates between start_dt and end_dt\n",
    "    \n",
    "    Parameters\n",
    "    ----------\n",
    "    df: DataFrame\n",
    "    - The data from which we will take a subset\n",
    "    \n",
    "    start_dt: String\n",
    "    - Start date\n",
    "    \n",
    "    end_dt: String\n",
    "    - End date\n",
    "    '''\n",
    "    # YOUR CODE HERE\n",
    "    return ((df.loc[:start_dt]).iloc[[-2]]).append(df[start_dt : end_dt])\n",
    "\n",
    "train_data_price = getRange(data, start_dt, end_dt)\n",
    "print(train_data_price.head())"
   ]
  },
  {
   "cell_type": "code",
   "execution_count": null,
   "metadata": {
    "deletable": false,
    "editable": false,
    "nbgrader": {
     "cell_type": "code",
     "checksum": "482c8ef100d585354a116197b61461b2",
     "grade": true,
     "grade_id": "cell-e1a885451770427c",
     "locked": true,
     "points": 0,
     "schema_version": 3,
     "solution": false,
     "task": false
    }
   },
   "outputs": [],
   "source": []
  },
  {
   "cell_type": "markdown",
   "metadata": {},
   "source": [
    "As you can see, each row has two attributes for one  date\n",
    "- Price (adjusted close) of ticker $\\aapl$\n",
    "- Price (adjusted close) of the market proxy $\\spy$"
   ]
  },
  {
   "cell_type": "markdown",
   "metadata": {},
   "source": [
    "# Create test set\n",
    "\n",
    "We just created a set of training examples as a subset of the rows of `data`.\n",
    "\n",
    "We will do the same to create a set of test examples.\n",
    "\n",
    "**Question:**\n",
    "\n",
    "Set variable `test_data_price`\n",
    "- To  the subset of rows of our examples\n",
    "- Beginning on the **trading day before** date `test_start_dt`\n",
    "- Ending on date `test_end_dt`\n",
    "\n",
    "**Hint**\n",
    "- Use `getRange` with different arguments for the dates"
   ]
  },
  {
   "cell_type": "code",
   "execution_count": 8,
   "metadata": {
    "deletable": false,
    "nbgrader": {
     "cell_type": "code",
     "checksum": "4205b5f9982a2ab078f780c7179a4bfb",
     "grade": false,
     "grade_id": "cell-27491348296befb7",
     "locked": false,
     "schema_version": 3,
     "solution": true,
     "task": false
    }
   },
   "outputs": [],
   "source": [
    "test_start_dt = '2018-10-01'\n",
    "test_end_dt = '2018-12-31'\n",
    "\n",
    "# YOUR CODE HERE\n",
    "test_data_price = getRange(data, test_start_dt, test_end_dt)\n"
   ]
  },
  {
   "cell_type": "code",
   "execution_count": null,
   "metadata": {
    "deletable": false,
    "editable": false,
    "nbgrader": {
     "cell_type": "code",
     "checksum": "77ea6bca32280e1a59a3c0d2703c84d1",
     "grade": true,
     "grade_id": "cell-1a2300597ee154da",
     "locked": true,
     "points": 0,
     "schema_version": 3,
     "solution": false,
     "task": false
    }
   },
   "outputs": [],
   "source": []
  },
  {
   "cell_type": "markdown",
   "metadata": {},
   "source": [
    "# Prepare the data\n",
    "\n",
    "In Finance, it is very typical to work with *relative changes* (e.g., percent price change)\n",
    "rather than *absolute changes* (price change) or *levels* (prices).\n",
    "\n",
    "Without going into too much detail\n",
    "- Relative changes are more consistent over time than either absolute changes or levels\n",
    "- The consistency can facilitate the use of data over a longer time period\n",
    "\n",
    "For example, let's suppose that prices are given in units of USD (dollar)\n",
    "- A price change of 1 USD is more likely for a stock with price level 100 than price level 10\n",
    "    - A relative change of $1/100 = 1 %$ is more likely than a change of $1/10 = 10%$\n",
    "    - So relative changes are less dependent on price level than either price changes or price levels\n",
    "    \n",
    "    \n",
    "To compute the *return* (percent change in prices)\n",
    " for ticker $\\aapl$ (Apple) on date $t$\n",
    "\n",
    "$$\n",
    "\\begin{array}[lll]\\\\\n",
    "\\ret_\\aapl^\\tp = \\frac{\\price _\\aapl^\\tp}{\\price _\\aapl^{(t-1)}} -1 \\\\\n",
    "\\text{where} \\\\\n",
    "\\price_\\aapl^\\tp \\text{ denotes the price of ticker } \\aapl \\text{ on date } t \\\\\n",
    "\\ret_\\aapl^\\tp \\text{ denotes the return of ticker } \\aapl \\text{ on date } t\n",
    "\\end{array}\n",
    "$$\n"
   ]
  },
  {
   "cell_type": "markdown",
   "metadata": {},
   "source": [
    "# Transformations: transform the training data\n",
    "\n",
    "Our first task is to transform the data from price levels (Adj Close)\n",
    "to Percent Price Changes.\n",
    "\n",
    "Moreover, the date range for the training data is specified to be in the range\n",
    "from `start_dt` (start date) to `end_dt`, inclusive on both sides.\n",
    "\n",
    "**Note**\n",
    "\n",
    "We will need to apply **identical** transformations to both the training and test data examples.\n",
    "\n",
    "In the cells that immediately follow, we will do this only for the **training data**\n",
    "\n",
    "You will need to repeat these steps for the test data in a subsequent step.\n",
    "\n",
    "You are well-advised to create subroutines or functions to accomplish these tasks !\n",
    "- You will apply them first to transform training data\n",
    "- You will apply them a second time to transform the test data\n",
    "\n",
    "We will achieve this is several steps"
   ]
  },
  {
   "cell_type": "markdown",
   "metadata": {},
   "source": [
    "## Create DataFrame of returns for training examples\n",
    "\n",
    "Create a new DataFrame with percent price changes of the columns, rather than the levels\n",
    "\n",
    "**Question:**\n",
    "- Complete function `getReturns()` to set variable `train_data_ret` to be a DataFrame with the same columns\n",
    "    - But where the prices have been replaced by day over day percent changes\n",
    "    - The column names of `train_data_ret` should be the same as the original columns names\n",
    "    - We give you code to rename the columns to reflect the changed meaning of the data in the next step\n",
    "\n",
    "**Hint:**\n",
    "- look up the Pandas `pct_change()` method    "
   ]
  },
  {
   "cell_type": "code",
   "execution_count": 9,
   "metadata": {
    "deletable": false,
    "nbgrader": {
     "cell_type": "code",
     "checksum": "e75d8d03f2315603e6d8f377fe32740c",
     "grade": false,
     "grade_id": "cell-1686f75593a7bace",
     "locked": false,
     "schema_version": 3,
     "solution": true,
     "task": false
    }
   },
   "outputs": [
    {
     "data": {
      "text/html": [
       "<div>\n",
       "<style scoped>\n",
       "    .dataframe tbody tr th:only-of-type {\n",
       "        vertical-align: middle;\n",
       "    }\n",
       "\n",
       "    .dataframe tbody tr th {\n",
       "        vertical-align: top;\n",
       "    }\n",
       "\n",
       "    .dataframe thead th {\n",
       "        text-align: right;\n",
       "    }\n",
       "</style>\n",
       "<table border=\"1\" class=\"dataframe\">\n",
       "  <thead>\n",
       "    <tr style=\"text-align: right;\">\n",
       "      <th></th>\n",
       "      <th>AAPL_Adj_Close</th>\n",
       "      <th>SPY_Adj_Close</th>\n",
       "    </tr>\n",
       "    <tr>\n",
       "      <th>Dt</th>\n",
       "      <th></th>\n",
       "      <th></th>\n",
       "    </tr>\n",
       "  </thead>\n",
       "  <tbody>\n",
       "    <tr>\n",
       "      <th>2017-12-29</th>\n",
       "      <td>NaN</td>\n",
       "      <td>NaN</td>\n",
       "    </tr>\n",
       "    <tr>\n",
       "      <th>2018-01-02</th>\n",
       "      <td>0.017905</td>\n",
       "      <td>0.007158</td>\n",
       "    </tr>\n",
       "    <tr>\n",
       "      <th>2018-01-03</th>\n",
       "      <td>-0.000174</td>\n",
       "      <td>0.006325</td>\n",
       "    </tr>\n",
       "    <tr>\n",
       "      <th>2018-01-04</th>\n",
       "      <td>0.004645</td>\n",
       "      <td>0.004215</td>\n",
       "    </tr>\n",
       "    <tr>\n",
       "      <th>2018-01-05</th>\n",
       "      <td>0.011385</td>\n",
       "      <td>0.006664</td>\n",
       "    </tr>\n",
       "  </tbody>\n",
       "</table>\n",
       "</div>"
      ],
      "text/plain": [
       "            AAPL_Adj_Close  SPY_Adj_Close\n",
       "Dt                                       \n",
       "2017-12-29             NaN            NaN\n",
       "2018-01-02        0.017905       0.007158\n",
       "2018-01-03       -0.000174       0.006325\n",
       "2018-01-04        0.004645       0.004215\n",
       "2018-01-05        0.011385       0.006664"
      ]
     },
     "execution_count": 9,
     "metadata": {},
     "output_type": "execute_result"
    }
   ],
   "source": [
    "train_data_ret = None\n",
    "\n",
    "def getReturns(df):\n",
    "    '''\n",
    "    Return the day over day percent changes of adjusted price\n",
    "    \n",
    "    Parameters\n",
    "    ----------\n",
    "    df: DataFrame\n",
    "    '''\n",
    "    \n",
    "    # YOUR CODE HERE\n",
    "    return df.pct_change()\n",
    "\n",
    "train_data_ret = getReturns(train_data_price)\n",
    "train_data_ret.head()\n"
   ]
  },
  {
   "cell_type": "code",
   "execution_count": null,
   "metadata": {
    "deletable": false,
    "editable": false,
    "nbgrader": {
     "cell_type": "code",
     "checksum": "2a40b50b12b072ffc1cbde0a21d53c26",
     "grade": true,
     "grade_id": "check-get-returns",
     "locked": true,
     "points": 10,
     "schema_version": 3,
     "solution": false
    }
   },
   "outputs": [],
   "source": []
  },
  {
   "cell_type": "markdown",
   "metadata": {},
   "source": [
    "Since the columns of `train_data_ret` are now returns, we will rename then for you.\n",
    "\n",
    "Also, we will drop the earliest date\n",
    "- There is now return for this date\n",
    "- We included this row only so we could compute the return for the following trading date"
   ]
  },
  {
   "cell_type": "code",
   "execution_count": 10,
   "metadata": {
    "deletable": false,
    "editable": false,
    "nbgrader": {
     "cell_type": "code",
     "checksum": "e97e42e4b3fb4880a012c3d25d1fc539",
     "grade": false,
     "grade_id": "cell-fb9edc0f593c043d",
     "locked": true,
     "schema_version": 3,
     "solution": false,
     "task": false
    }
   },
   "outputs": [
    {
     "data": {
      "text/html": [
       "<div>\n",
       "<style scoped>\n",
       "    .dataframe tbody tr th:only-of-type {\n",
       "        vertical-align: middle;\n",
       "    }\n",
       "\n",
       "    .dataframe tbody tr th {\n",
       "        vertical-align: top;\n",
       "    }\n",
       "\n",
       "    .dataframe thead th {\n",
       "        text-align: right;\n",
       "    }\n",
       "</style>\n",
       "<table border=\"1\" class=\"dataframe\">\n",
       "  <thead>\n",
       "    <tr style=\"text-align: right;\">\n",
       "      <th></th>\n",
       "      <th>AAPL_Ret</th>\n",
       "      <th>SPY_Ret</th>\n",
       "    </tr>\n",
       "    <tr>\n",
       "      <th>Dt</th>\n",
       "      <th></th>\n",
       "      <th></th>\n",
       "    </tr>\n",
       "  </thead>\n",
       "  <tbody>\n",
       "    <tr>\n",
       "      <th>2018-01-02</th>\n",
       "      <td>0.017905</td>\n",
       "      <td>0.007158</td>\n",
       "    </tr>\n",
       "    <tr>\n",
       "      <th>2018-01-03</th>\n",
       "      <td>-0.000174</td>\n",
       "      <td>0.006325</td>\n",
       "    </tr>\n",
       "    <tr>\n",
       "      <th>2018-01-04</th>\n",
       "      <td>0.004645</td>\n",
       "      <td>0.004215</td>\n",
       "    </tr>\n",
       "    <tr>\n",
       "      <th>2018-01-05</th>\n",
       "      <td>0.011385</td>\n",
       "      <td>0.006664</td>\n",
       "    </tr>\n",
       "    <tr>\n",
       "      <th>2018-01-08</th>\n",
       "      <td>-0.003714</td>\n",
       "      <td>0.001829</td>\n",
       "    </tr>\n",
       "  </tbody>\n",
       "</table>\n",
       "</div>"
      ],
      "text/plain": [
       "            AAPL_Ret   SPY_Ret\n",
       "Dt                            \n",
       "2018-01-02  0.017905  0.007158\n",
       "2018-01-03 -0.000174  0.006325\n",
       "2018-01-04  0.004645  0.004215\n",
       "2018-01-05  0.011385  0.006664\n",
       "2018-01-08 -0.003714  0.001829"
      ]
     },
     "execution_count": 10,
     "metadata": {},
     "output_type": "execute_result"
    }
   ],
   "source": [
    "## Rename the columns to indicate that they have been transformed from price (Adj_close) to Return\n",
    "train_data_ret = helper.renamePriceToRet( train_data_ret )\n",
    "\n",
    "## Drop the first date (the day before `start_dt`) since it has an undefined return\n",
    "train_data_ret = train_data_ret[ start_dt:]\n",
    "train_data_ret.head()"
   ]
  },
  {
   "cell_type": "markdown",
   "metadata": {},
   "source": [
    "  \n",
    "Expected outputs should be similar to this:   \n",
    "<img src=\"./images/train_data.png\" width=\"250\" height=\"150\"/>"
   ]
  },
  {
   "cell_type": "markdown",
   "metadata": {},
   "source": [
    "## Remove the target \n",
    "\n",
    "The only feature is the return of the market proxy $\\spy$.\n",
    "\n",
    "Predicting the target given the target as a feature would be cheating !\n",
    "\n",
    "So we will create `X_train, y_train` from `train_data_ret`\n",
    "- `X_train` has only features for the example\n",
    "- `y_train` is the target for the example"
   ]
  },
  {
   "cell_type": "code",
   "execution_count": 11,
   "metadata": {
    "deletable": false,
    "editable": false,
    "nbgrader": {
     "cell_type": "code",
     "checksum": "bf3d14aa96346dfa095f97ad3e08069f",
     "grade": false,
     "grade_id": "cell-f110d292623248a7",
     "locked": true,
     "schema_version": 3,
     "solution": false,
     "task": false
    }
   },
   "outputs": [],
   "source": [
    "tickerAttr = ticker + \"_Ret\"\n",
    "\n",
    "X_train, y_train =  train_data_ret.drop(columns=[tickerAttr]), train_data_ret[[ tickerAttr ]]"
   ]
  },
  {
   "cell_type": "markdown",
   "metadata": {},
   "source": [
    "# Transformations: transform the test data\n",
    "\n",
    "We have just performed some transformations of the training data.\n",
    "\n",
    "**Remember**:\n",
    "\n",
    "You need to perform *identical* transformations to the test data.\n",
    "\n",
    "The test data will be returns from `test_start_dt` to `test_end_dt` inclusive.\n",
    "\n",
    "We will apply identical transformations as we did to the training data, but with a different date range.\n"
   ]
  },
  {
   "cell_type": "markdown",
   "metadata": {},
   "source": [
    "We obtained `X_train, y_train` via transformations to `train_data_price`.\n",
    "\n",
    "We will now obtain `X_test, y_test` by identical transformations to `test_data_price`\n",
    "\n",
    "**Question:**\n",
    "\n",
    "Create the training data `X_test, y_test`\n",
    "- Apply the same transformations to `test_data_price` as you did to `train_data_price`\n",
    "- To create variable `test_data_ret`\n",
    "- We will convert `test_data_ret` to `X_test, y_test` for you\n",
    "\n",
    "**Hints**\n",
    "\n",
    "Create `test_data_ret` in a manner analogous to the creation of `train_data_ret`\n",
    "- Use `getReturns` to convert price levels to returns\n",
    "- Use `helper.renamePriceToRet` to rename the columns to reflect the change in data from price to return\n",
    "- Drop the first date from `test_data_ret` as it has an undefined return\n"
   ]
  },
  {
   "cell_type": "code",
   "execution_count": 12,
   "metadata": {},
   "outputs": [
    {
     "data": {
      "text/html": [
       "<div>\n",
       "<style scoped>\n",
       "    .dataframe tbody tr th:only-of-type {\n",
       "        vertical-align: middle;\n",
       "    }\n",
       "\n",
       "    .dataframe tbody tr th {\n",
       "        vertical-align: top;\n",
       "    }\n",
       "\n",
       "    .dataframe thead th {\n",
       "        text-align: right;\n",
       "    }\n",
       "</style>\n",
       "<table border=\"1\" class=\"dataframe\">\n",
       "  <thead>\n",
       "    <tr style=\"text-align: right;\">\n",
       "      <th></th>\n",
       "      <th>AAPL_Adj_Close</th>\n",
       "      <th>SPY_Adj_Close</th>\n",
       "    </tr>\n",
       "    <tr>\n",
       "      <th>Dt</th>\n",
       "      <th></th>\n",
       "      <th></th>\n",
       "    </tr>\n",
       "  </thead>\n",
       "  <tbody>\n",
       "    <tr>\n",
       "      <th>2018-09-28</th>\n",
       "      <td>221.6252</td>\n",
       "      <td>285.0555</td>\n",
       "    </tr>\n",
       "    <tr>\n",
       "      <th>2018-10-01</th>\n",
       "      <td>223.1175</td>\n",
       "      <td>286.0458</td>\n",
       "    </tr>\n",
       "    <tr>\n",
       "      <th>2018-10-02</th>\n",
       "      <td>225.1006</td>\n",
       "      <td>285.8791</td>\n",
       "    </tr>\n",
       "    <tr>\n",
       "      <th>2018-10-03</th>\n",
       "      <td>227.8398</td>\n",
       "      <td>286.0359</td>\n",
       "    </tr>\n",
       "    <tr>\n",
       "      <th>2018-10-04</th>\n",
       "      <td>223.8342</td>\n",
       "      <td>283.8004</td>\n",
       "    </tr>\n",
       "  </tbody>\n",
       "</table>\n",
       "</div>"
      ],
      "text/plain": [
       "            AAPL_Adj_Close  SPY_Adj_Close\n",
       "Dt                                       \n",
       "2018-09-28        221.6252       285.0555\n",
       "2018-10-01        223.1175       286.0458\n",
       "2018-10-02        225.1006       285.8791\n",
       "2018-10-03        227.8398       286.0359\n",
       "2018-10-04        223.8342       283.8004"
      ]
     },
     "execution_count": 12,
     "metadata": {},
     "output_type": "execute_result"
    }
   ],
   "source": [
    "test_data_price.head()"
   ]
  },
  {
   "cell_type": "code",
   "execution_count": 13,
   "metadata": {
    "deletable": false,
    "nbgrader": {
     "cell_type": "code",
     "checksum": "9bb948d1fb415c27befc45f997fa29f0",
     "grade": false,
     "grade_id": "cell-7aac82a6b5289f38",
     "locked": false,
     "schema_version": 3,
     "solution": true,
     "task": false
    }
   },
   "outputs": [
    {
     "name": "stdout",
     "output_type": "stream",
     "text": [
      "test data length 63\n",
      "X test length 63\n",
      "y test length 63\n"
     ]
    },
    {
     "data": {
      "text/html": [
       "<div>\n",
       "<style scoped>\n",
       "    .dataframe tbody tr th:only-of-type {\n",
       "        vertical-align: middle;\n",
       "    }\n",
       "\n",
       "    .dataframe tbody tr th {\n",
       "        vertical-align: top;\n",
       "    }\n",
       "\n",
       "    .dataframe thead th {\n",
       "        text-align: right;\n",
       "    }\n",
       "</style>\n",
       "<table border=\"1\" class=\"dataframe\">\n",
       "  <thead>\n",
       "    <tr style=\"text-align: right;\">\n",
       "      <th></th>\n",
       "      <th>AAPL_Ret</th>\n",
       "      <th>SPY_Ret</th>\n",
       "    </tr>\n",
       "    <tr>\n",
       "      <th>Dt</th>\n",
       "      <th></th>\n",
       "      <th></th>\n",
       "    </tr>\n",
       "  </thead>\n",
       "  <tbody>\n",
       "    <tr>\n",
       "      <th>2018-10-01</th>\n",
       "      <td>0.006733</td>\n",
       "      <td>0.003474</td>\n",
       "    </tr>\n",
       "    <tr>\n",
       "      <th>2018-10-02</th>\n",
       "      <td>0.008888</td>\n",
       "      <td>-0.000583</td>\n",
       "    </tr>\n",
       "    <tr>\n",
       "      <th>2018-10-03</th>\n",
       "      <td>0.012169</td>\n",
       "      <td>0.000548</td>\n",
       "    </tr>\n",
       "    <tr>\n",
       "      <th>2018-10-04</th>\n",
       "      <td>-0.017581</td>\n",
       "      <td>-0.007815</td>\n",
       "    </tr>\n",
       "    <tr>\n",
       "      <th>2018-10-05</th>\n",
       "      <td>-0.016229</td>\n",
       "      <td>-0.005597</td>\n",
       "    </tr>\n",
       "  </tbody>\n",
       "</table>\n",
       "</div>"
      ],
      "text/plain": [
       "            AAPL_Ret   SPY_Ret\n",
       "Dt                            \n",
       "2018-10-01  0.006733  0.003474\n",
       "2018-10-02  0.008888 -0.000583\n",
       "2018-10-03  0.012169  0.000548\n",
       "2018-10-04 -0.017581 -0.007815\n",
       "2018-10-05 -0.016229 -0.005597"
      ]
     },
     "execution_count": 13,
     "metadata": {},
     "output_type": "execute_result"
    }
   ],
   "source": [
    "test_data_ret = None\n",
    "X_test = None\n",
    "y_test = None\n",
    "\n",
    "# YOUR CODE HERE\n",
    "test_data_ret = (helper.renamePriceToRet(getReturns(test_data_price)))[test_start_dt:]\n",
    "\n",
    "X_test, y_test =  test_data_ret.drop(columns=[tickerAttr]), test_data_ret[[ tickerAttr ]]\n",
    "\n",
    "print(\"test data length\", test_data_ret.shape[0])\n",
    "print(\"X test length\", X_test.shape[0])\n",
    "print(\"y test length\", y_test.shape[0])\n",
    "test_data_ret.head()"
   ]
  },
  {
   "cell_type": "markdown",
   "metadata": {},
   "source": [
    "Expected outputs should be similar to this:   \n",
    "\n",
    "test data length 63      \n",
    "X test length 63      \n",
    "y test length 63        \n",
    "\n",
    "<img src=\"./images/test_data.png\" width=\"250\" height=\"150\"/>\n",
    "\n"
   ]
  },
  {
   "cell_type": "code",
   "execution_count": null,
   "metadata": {
    "deletable": false,
    "editable": false,
    "nbgrader": {
     "cell_type": "code",
     "checksum": "c137763d9ad534ea037c78bc5efe686e",
     "grade": true,
     "grade_id": "check-transform-test-data",
     "locked": true,
     "points": 10,
     "schema_version": 3,
     "solution": false
    }
   },
   "outputs": [],
   "source": []
  },
  {
   "cell_type": "markdown",
   "metadata": {},
   "source": [
    "# Train a model (Regression)\n",
    "\n",
    "Use Linear Regression to predict the return of a ticker from the return of the market proxy $\\spy$.\n",
    "For example, for ticker $\\aapl$\n",
    "\n",
    "$$\n",
    "\\ret_\\aapl^\\tp = \\beta_0 + \\beta_{\\aapl, \\spy} * \\ret_\\spy^\\tp + \\epsilon_{\\aapl}^\\tp\n",
    "$$\n",
    "\n",
    "Each example corresponds to one day (time $t$)\n",
    "- has features\n",
    "    - constant 1, corresponding to the intercept parameter\n",
    "    - return of the market proxy $\\spy$\n",
    "       $$\\x^\\tp = \\begin{pmatrix}\n",
    "        1 \\\\\n",
    "        \\ret_\\spy^\\tp\n",
    "        \\end{pmatrix}$$\n",
    "\n",
    "- has target\n",
    "    - return of the ticker\n",
    "    $$\\y^\\tp = \\ret_\\aapl^\\tp$$\n",
    "\n",
    " \n",
    "You will use Linear Regression to solve for parameters $\\beta_0$,  $\\beta_{\\aapl, \\spy}$ \n",
    "\n",
    "- In the lectures we used the symbol $\\Theta$ to denote the parameter vector; here we use $\\mathbf{\\beta}$\n",
    "- In Finance the symbol $\\beta$ is often used to denote the relationship between returns.\n",
    "- Rather than explicitly creating a constant 1 feature\n",
    "    - you may invoke the model object with the option including an intercept\n",
    "    - if you do so, the feature vector you pass will be\n",
    "   $$\\x^\\tp = \\begin{pmatrix}\n",
    "        \\ret_\\spy^\\tp\n",
    "        \\end{pmatrix}$$  \n",
    "    \n",
    "\n",
    "\n",
    "- Use the entire training set\n",
    "- Do not use cross-validation"
   ]
  },
  {
   "cell_type": "markdown",
   "metadata": {},
   "source": [
    "\n",
    "**Question:**\n",
    "\n",
    "Train your model to estimate the parameters beta_0 and beta_SPY   \n",
    "\n",
    "- Complete the function `createModel()` to build your linear regression model. The detailed description is in the function below.\n",
    "- Complete the function `regress()` to perform the regression and return two item: the intercept and coefficients. The detailed description is in the function below.\n",
    "    - `beta_0` is the regression parameter for the constant; \n",
    "    - `beta_SPY` is the regression parameter for the return of SPY. \n",
    "    - We will test if the parameters of your regression are correct. We have initialized them to be 0. \n",
    "\n",
    "**Hints:**\n",
    "- The input model of your function `regress()` should be the model you get from function `createModel()`\n",
    "- Before you input your `X_train` and `y_train` into your `sklearn` model, you need to convert them from type `DataFrame` into type `ndarray`. \n",
    "    - You can convert a `DataFrame` into an `ndarray` with the `values` attribute, e.g., `X_train.values`"
   ]
  },
  {
   "cell_type": "code",
   "execution_count": 14,
   "metadata": {
    "deletable": false,
    "nbgrader": {
     "cell_type": "code",
     "checksum": "b718618bc5186f7c1fe31eaa9b98167a",
     "grade": false,
     "grade_id": "ticker-regression",
     "locked": false,
     "schema_version": 3,
     "solution": true,
     "task": false
    }
   },
   "outputs": [
    {
     "name": "stdout",
     "output_type": "stream",
     "text": [
      "AAPL: beta_0=0.001, beta_SPY=1.071\n"
     ]
    }
   ],
   "source": [
    "from sklearn import datasets, linear_model\n",
    "\n",
    "beta_0 = 0    # The regression parameter for the constant\n",
    "beta_SPY = 0  # The regression parameter for the return of SPY\n",
    "ticker = \"AAPL\"\n",
    "\n",
    "def createModel():\n",
    "    '''\n",
    "    Build your linear regression model using sklearn\n",
    "    \n",
    "    Returns\n",
    "    -------\n",
    "    An sklearn model object implementing Linear Regression\n",
    "    '''\n",
    "    # YOUR CODE HERE\n",
    "    regressor = linear_model.LinearRegression()\n",
    "    return regressor\n",
    "\n",
    "def regress(model, X, y):\n",
    "    '''\n",
    "    Do regression using returns of your ticker and index\n",
    "    \n",
    "    Parameters\n",
    "    -----------\n",
    "    model: model object implementing Linear Regression\n",
    "        \n",
    "    X: DataFrame\n",
    "    - Index returns\n",
    "    \n",
    "    y: DataFrame\n",
    "    - Ticker returns\n",
    "    \n",
    "    Returns\n",
    "    -------\n",
    "    Tuple (beta_0, beta_SPY)\n",
    "    where,\n",
    "        beta_0: Scalar number \n",
    "        - Parameter for the constant\n",
    "\n",
    "        beta_SPY: Scalar number\n",
    "        - Parameter for the return of SPY\n",
    "    \n",
    "\n",
    "    '''\n",
    "    # YOUR CODE HERE\n",
    "    X_array = X.values\n",
    "    y_array = y.values\n",
    "    model.fit(X, y)\n",
    "    intercept =  model.intercept_\n",
    "    coef = model.coef_\n",
    "    return [intercept[0]] + list(coef[0][0:])\n",
    "\n",
    "# Assign to answer variables\n",
    "regr = createModel()\n",
    "\n",
    "beta_0, beta_SPY = regress(regr, X_train, y_train)\n",
    "\n",
    "\n",
    "print(\"{t:s}: beta_0={b0:3.3f}, beta_SPY={b1:3.3f}\".format(t=ticker, b0=beta_0, b1=beta_SPY))"
   ]
  },
  {
   "cell_type": "markdown",
   "metadata": {},
   "source": [
    "Your expected outputs should be:\n",
    "<table> \n",
    "    <tr> \n",
    "        <td>  \n",
    "            beta_0\n",
    "        </td>\n",
    "        <td>\n",
    "         0.001\n",
    "        </td>\n",
    "    </tr>\n",
    "    <tr> \n",
    "        <td>\n",
    "            beta_SPY\n",
    "        </td>\n",
    "        <td>\n",
    "         1.071\n",
    "        </td>\n",
    "    </tr>\n",
    "\n",
    "</table>"
   ]
  },
  {
   "cell_type": "code",
   "execution_count": null,
   "metadata": {
    "deletable": false,
    "editable": false,
    "nbgrader": {
     "cell_type": "code",
     "checksum": "cb2f3a1ed2eb50e8f5f696a4f3ba96c8",
     "grade": true,
     "grade_id": "check-ticker-regression",
     "locked": true,
     "points": 50,
     "schema_version": 3,
     "solution": false,
     "task": false
    }
   },
   "outputs": [],
   "source": []
  },
  {
   "cell_type": "markdown",
   "metadata": {},
   "source": [
    "## Train the model using Cross validation\n",
    "\n",
    "Since we only have one test set, we want to use 5-fold cross validation to assess model performance.\n",
    "\n",
    "**Question:**\n",
    "- Complete the function `compute_cross_val_avg()` to compute the average score of 5-fold cross validation\n",
    "    - Set `cross_val_avg` as your average score of k-fold results\n",
    "    - Set `k = 5` as the number of folds\n",
    "\n",
    "**Hint:**  \n",
    "- You can use the `cross_val_score` in `sklearn.model_selection`"
   ]
  },
  {
   "cell_type": "code",
   "execution_count": 15,
   "metadata": {
    "deletable": false,
    "nbgrader": {
     "cell_type": "code",
     "checksum": "c6c989d4f469e55a0b2acb26e3d8718b",
     "grade": false,
     "grade_id": "cell-682c309ea0167241",
     "locked": false,
     "schema_version": 3,
     "solution": true,
     "task": false
    }
   },
   "outputs": [
    {
     "name": "stdout",
     "output_type": "stream",
     "text": [
      "AAPL: Avg cross val score = 0.33\n"
     ]
    }
   ],
   "source": [
    "from sklearn.model_selection import cross_val_score\n",
    "\n",
    "cross_val_avg = 0 # average score of cross validation\n",
    "k = 5             # 5-fold cross validation\n",
    "\n",
    "def compute_cross_val_avg(model, X, y, k):\n",
    "    '''\n",
    "    Compute the average score of k-fold cross validation\n",
    "    \n",
    "    Parameters\n",
    "    -----------\n",
    "    model: An sklearn model\n",
    "    \n",
    "    X: DataFrame\n",
    "    - Index returns\n",
    "    \n",
    "    y: DataFrame\n",
    "    - Ticker returns\n",
    "    \n",
    "    k: Scalar number\n",
    "    - k-fold cross validation\n",
    "    \n",
    "    Returns\n",
    "    --------\n",
    "    The average, across the k iterations, of the score\n",
    "    '''\n",
    "    # YOUR CODE HERE\n",
    "    scores = cross_val_score(model, X, y, cv = k)\n",
    "    return scores.mean()\n",
    "\n",
    "    \n",
    "cross_val_avg = compute_cross_val_avg(regr, X_train, y_train, 5)\n",
    "print(\"{t:s}: Avg cross val score = {sc:3.2f}\".format(t=ticker, sc=cross_val_avg) )"
   ]
  },
  {
   "cell_type": "code",
   "execution_count": null,
   "metadata": {
    "deletable": false,
    "editable": false,
    "nbgrader": {
     "cell_type": "code",
     "checksum": "266249d1716bfc1e8f31bef5c1425892",
     "grade": true,
     "grade_id": "Check-cross-validation",
     "locked": true,
     "points": 10,
     "schema_version": 3,
     "solution": false
    }
   },
   "outputs": [],
   "source": []
  },
  {
   "cell_type": "markdown",
   "metadata": {},
   "source": [
    "## Evaluate Loss (in sample RMSE) and Performance (Out of sample RMSE)\n",
    "\n",
    "To see how well your model performs, we can check the in-sample loss and out-of-sample performance.   \n",
    "\n",
    "**Question:**\n",
    "- Complete the function `computeRMSE()` to compute the Root of Mean Square Error (RMSE)\n",
    "    - Set `rmse_in_sample` to be in-sample loss\n",
    "    - Set `rmse_out_sample` to be out-of-sample performance"
   ]
  },
  {
   "cell_type": "code",
   "execution_count": 16,
   "metadata": {
    "deletable": false,
    "nbgrader": {
     "cell_type": "code",
     "checksum": "f485412da45c631160b56810f7472aaa",
     "grade": false,
     "grade_id": "cell-da0f1fee111433fd",
     "locked": false,
     "schema_version": 3,
     "solution": true,
     "task": false
    }
   },
   "outputs": [
    {
     "name": "stdout",
     "output_type": "stream",
     "text": [
      "In Sample Root Mean squared error: 0.011\n",
      "Out of Sample Root Mean squared error: 0.015\n"
     ]
    }
   ],
   "source": [
    "from sklearn.metrics import mean_squared_error\n",
    "\n",
    "rmse_in_sample = 0 # in sample loss\n",
    "rmse_out_sample = 0 # out of sample performance\n",
    "\n",
    "# Predicted  in-sample returns of AAPL using SPY index\n",
    "aapl_predicted_in_sample = regr.predict(X_train)\n",
    "# Predicted out-of-sample returns of AAPL using SPY index\n",
    "aapl_predicted_out_sample = regr.predict(X_test)\n",
    "\n",
    "def computeRMSE( target, predicted ):\n",
    "    '''\n",
    "    Calculate the RMSE\n",
    "    \n",
    "    Parameters\n",
    "    ----------\n",
    "    target: DataFrame\n",
    "    - Real ticker returns\n",
    "    \n",
    "    predicted: ndarray\n",
    "    - Predicted ticker returns\n",
    "    \n",
    "    Return\n",
    "    ------\n",
    "    Scalar number\n",
    "    - The value of the RMSE\n",
    "    '''\n",
    "    # YOUR CODE HERE\n",
    "    rmse = np.sqrt(mean_squared_error(target,  predicted))\n",
    "    return rmse\n",
    "    \n",
    "rmse_in_sample = computeRMSE(y_train, aapl_predicted_in_sample)\n",
    "rmse_out_sample = computeRMSE(y_test, aapl_predicted_out_sample)\n",
    "\n",
    "print(\"In Sample Root Mean squared error: {:.3f}\".format( rmse_in_sample ) )\n",
    "print(\"Out of Sample Root Mean squared error: {:.3f}\".format( rmse_out_sample ) )"
   ]
  },
  {
   "cell_type": "code",
   "execution_count": null,
   "metadata": {
    "deletable": false,
    "editable": false,
    "nbgrader": {
     "cell_type": "code",
     "checksum": "77133443ae1ee4de8d456d018215dbc4",
     "grade": true,
     "grade_id": "check-evaluation",
     "locked": true,
     "points": 10,
     "schema_version": 3,
     "solution": false
    }
   },
   "outputs": [],
   "source": []
  },
  {
   "cell_type": "markdown",
   "metadata": {},
   "source": [
    "## Hedged returns\n",
    "\n",
    "Why is being able to predict the return of a ticker, given the return of another instrument (e.g., the market proxy) useful ?\n",
    "- It **does not** allow us to predict the future\n",
    "    - To predict $\\ret_\\aapl^\\tp$, we require the same day return of the proxy $\\ret_\\spy$\n",
    "- It **does** allow us to predict how much $\\aapl$ will outperform the market proxy\n",
    "\n",
    "Consider an investment that goes long (i.e, holds a positive quantity) of $\\aapl$\n",
    "- Since the relationship between returns is positive\n",
    "    - You will likely make money if the market goes up\n",
    "    - You will likely lose money if the market goes down\n",
    "    \n",
    "Consider instead a *hedged* investment\n",
    "- Go long 1 USD of $\\aapl$\n",
    "- Go short (hold a negative quantity) $\\beta_{\\aapl,\\spy}$ USD of the market proxy $\\spy$\n",
    "\n",
    "Your *hedged return* on this long/short portfolio will be\n",
    "$$\n",
    "{\\ret'}_{\\aapl}^\\tp = \\ret_\\aapl^\\tp - \\beta_{\\aapl, \\spy} * \\ret_\\spy^\\tp\n",
    "$$\n",
    "\n",
    "As long as\n",
    "$$\n",
    "\\ret_\\aapl^\\tp \\gt \\beta_{\\aapl, \\spy} * \\ret_\\spy^\\tp\n",
    "$$\n",
    "you will make a profit, regardless of whether the market proxy rises or falls !\n",
    "\n",
    "That is: you make money as long as $\\aapl$ *outperforms* the market proxy.\n"
   ]
  },
  {
   "cell_type": "markdown",
   "metadata": {},
   "source": [
    "This hedged portfolio is interesting\n",
    "- Because your returns are independent of the market\n",
    "- The volatility of your returns is likely much lower than the volatility of the long-only investment\n",
    "- There is a belief that it is difficult to predict the market $\\ret_\\spy$\n",
    "- But you might be able to discover a ticker (e.g., $\\aapl$) that will outpeform the market\n",
    "\n",
    "This is a real world application of the Regression task in Finance."
   ]
  },
  {
   "cell_type": "markdown",
   "metadata": {},
   "source": [
    "## Compute the hedged return on the test data examples\n",
    "$$\n",
    "{\\ret'}_{\\aapl}^\\tp = \\ret_\\aapl^\\tp - \\beta_{\\aapl, \\spy} * \\ret_\\spy^\\tp\n",
    "$$\n",
    "for all dates $t$ in the **test set**.  \n",
    "\n",
    "\n",
    "**Question:**  \n",
    "\n",
    "Compute the hedged returns using your predicted series\n",
    "\n",
    "- Complete the function `compute_hedged_series()` \n",
    "    - It should use your model results and the **test exmples** to compute the hedged returns. The detailed description is in the function below\n",
    "\n",
    "**Hint**\n",
    "- An `sklearn` model, once fitted, may have attributes `coef_` that give you access to the parameters\n",
    "\n"
   ]
  },
  {
   "cell_type": "code",
   "execution_count": 17,
   "metadata": {
    "deletable": false,
    "nbgrader": {
     "cell_type": "code",
     "checksum": "e68789b0c4a1b16083ee835e0ac45d90",
     "grade": false,
     "grade_id": "cell-615640674398f9ff",
     "locked": false,
     "schema_version": 3,
     "solution": true,
     "task": false
    }
   },
   "outputs": [
    {
     "name": "stdout",
     "output_type": "stream",
     "text": [
      "            AAPL_Ret\n",
      "Dt                  \n",
      "2018-10-01  0.003012\n",
      "2018-10-02  0.009512\n",
      "2018-10-03  0.011581\n",
      "2018-10-04 -0.009208\n",
      "2018-10-05 -0.010233\n"
     ]
    }
   ],
   "source": [
    "hedged_series = pd.DataFrame()\n",
    "\n",
    "def compute_hedged_series(model, X, y):\n",
    "    '''\n",
    "    Compute the hedged series\n",
    "    \n",
    "    Parameters\n",
    "    ----------\n",
    "    model: An sklearn model\n",
    "    \n",
    "    X: DataFrame\n",
    "    - Index returns\n",
    "    \n",
    "    y: DataFrame\n",
    "    - Ticker returns\n",
    "    \n",
    "    Return\n",
    "    ------\n",
    "    ndarray\n",
    "    - Hedged return series \n",
    "    '''\n",
    "    \n",
    "    # YOUR CODE HERE\n",
    "    model.fit(X_train, y_train)\n",
    "    beta = model.coef_\n",
    "    hedged_ret = y - (beta * X.values)\n",
    "    return hedged_ret\n",
    "\n",
    "hedged_series = compute_hedged_series(regr, X_test, y_test)\n",
    "print(hedged_series[:5])"
   ]
  },
  {
   "cell_type": "code",
   "execution_count": null,
   "metadata": {
    "deletable": false,
    "editable": false,
    "nbgrader": {
     "cell_type": "code",
     "checksum": "89cb1ce909fb57873f20f6e7d7dda4cb",
     "grade": true,
     "grade_id": "check-hedged-series",
     "locked": true,
     "points": 10,
     "schema_version": 3,
     "solution": false
    }
   },
   "outputs": [],
   "source": []
  },
  {
   "cell_type": "markdown",
   "metadata": {},
   "source": [
    "# A model with more than one feature\n",
    "\n",
    "Our simple model used a single feature (return of \"the market\") to make predictions.\n",
    "- There are many more timeseries, stored as .CSV files, in the data directory\n",
    "\n",
    "**Question**\n",
    "- Construct a model with *more than one* feature by choosing from among these timeseries\n",
    "- *Explain* why/how you chose the additional features\n",
    "    - You may run multiple experiments if you choose\n",
    "    - **Remember:** your notebook is a *movie*; we want to see your journey to your solution, not just the last step\n",
    "- Report the average of the scores when using 5 fold cross-validation\n",
    "- Report the in-sample and out of sample RMSE\n",
    "\n"
   ]
  },
  {
   "cell_type": "code",
   "execution_count": 18,
   "metadata": {},
   "outputs": [],
   "source": [
    "# Others key companies stock prices in the \"Technology\" sector and the index SPY are selected as the features to \n",
    "# explain the return of Apple, these companies and sector stock are Facebook (FB), Google (GOOG), Microsoft \n",
    "# Corporation (MSFT), and SPY. \n",
    "# Then we have model 2 as following\n",
    "\n",
    "ticker_2 = \"AAPL\", \"FB\", \"GOOG\", \"MSFT\"\n",
    "index_ticker = \"SPY\"\n",
    "dateAttr = \"Dt\"\n",
    "priceAttr = \"Adj Close\" \n",
    "\n",
    "# Get the Data\n",
    "data_2 = helper.getData(list(ticker_2), index_ticker, [priceAttr])"
   ]
  },
  {
   "cell_type": "code",
   "execution_count": 19,
   "metadata": {},
   "outputs": [
    {
     "data": {
      "text/html": [
       "<div>\n",
       "<style scoped>\n",
       "    .dataframe tbody tr th:only-of-type {\n",
       "        vertical-align: middle;\n",
       "    }\n",
       "\n",
       "    .dataframe tbody tr th {\n",
       "        vertical-align: top;\n",
       "    }\n",
       "\n",
       "    .dataframe thead th {\n",
       "        text-align: right;\n",
       "    }\n",
       "</style>\n",
       "<table border=\"1\" class=\"dataframe\">\n",
       "  <thead>\n",
       "    <tr style=\"text-align: right;\">\n",
       "      <th></th>\n",
       "      <th>AAPL_Adj_Close</th>\n",
       "      <th>FB_Adj_Close</th>\n",
       "      <th>GOOG_Adj_Close</th>\n",
       "      <th>MSFT_Adj_Close</th>\n",
       "      <th>SPY_Adj_Close</th>\n",
       "    </tr>\n",
       "    <tr>\n",
       "      <th>Dt</th>\n",
       "      <th></th>\n",
       "      <th></th>\n",
       "      <th></th>\n",
       "      <th></th>\n",
       "      <th></th>\n",
       "    </tr>\n",
       "  </thead>\n",
       "  <tbody>\n",
       "    <tr>\n",
       "      <th>2017-01-03</th>\n",
       "      <td>110.9539</td>\n",
       "      <td>116.86</td>\n",
       "      <td>786.14</td>\n",
       "      <td>59.4966</td>\n",
       "      <td>213.8428</td>\n",
       "    </tr>\n",
       "    <tr>\n",
       "      <th>2017-01-04</th>\n",
       "      <td>110.8297</td>\n",
       "      <td>118.69</td>\n",
       "      <td>786.90</td>\n",
       "      <td>59.2304</td>\n",
       "      <td>215.1149</td>\n",
       "    </tr>\n",
       "    <tr>\n",
       "      <th>2017-01-05</th>\n",
       "      <td>111.3933</td>\n",
       "      <td>120.67</td>\n",
       "      <td>794.02</td>\n",
       "      <td>59.2304</td>\n",
       "      <td>214.9440</td>\n",
       "    </tr>\n",
       "    <tr>\n",
       "      <th>2017-01-06</th>\n",
       "      <td>112.6351</td>\n",
       "      <td>123.41</td>\n",
       "      <td>806.15</td>\n",
       "      <td>59.7438</td>\n",
       "      <td>215.7131</td>\n",
       "    </tr>\n",
       "    <tr>\n",
       "      <th>2017-01-09</th>\n",
       "      <td>113.6668</td>\n",
       "      <td>124.90</td>\n",
       "      <td>806.65</td>\n",
       "      <td>59.5536</td>\n",
       "      <td>215.0010</td>\n",
       "    </tr>\n",
       "  </tbody>\n",
       "</table>\n",
       "</div>"
      ],
      "text/plain": [
       "            AAPL_Adj_Close  FB_Adj_Close  GOOG_Adj_Close  MSFT_Adj_Close  \\\n",
       "Dt                                                                         \n",
       "2017-01-03        110.9539        116.86          786.14         59.4966   \n",
       "2017-01-04        110.8297        118.69          786.90         59.2304   \n",
       "2017-01-05        111.3933        120.67          794.02         59.2304   \n",
       "2017-01-06        112.6351        123.41          806.15         59.7438   \n",
       "2017-01-09        113.6668        124.90          806.65         59.5536   \n",
       "\n",
       "            SPY_Adj_Close  \n",
       "Dt                         \n",
       "2017-01-03       213.8428  \n",
       "2017-01-04       215.1149  \n",
       "2017-01-05       214.9440  \n",
       "2017-01-06       215.7131  \n",
       "2017-01-09       215.0010  "
      ]
     },
     "execution_count": 19,
     "metadata": {},
     "output_type": "execute_result"
    }
   ],
   "source": [
    "# Have a Look at the Data\n",
    "data_2.head()"
   ]
  },
  {
   "cell_type": "code",
   "execution_count": 20,
   "metadata": {},
   "outputs": [
    {
     "name": "stdout",
     "output_type": "stream",
     "text": [
      "Start time 2:  2017-01-03\n",
      "End time 2:  2019-10-31\n"
     ]
    }
   ],
   "source": [
    "# Print the Start time and End time\n",
    "print(\"Start time 2: \", data_2.index.min())\n",
    "print(\"End time 2: \", data_2.index.max())"
   ]
  },
  {
   "cell_type": "code",
   "execution_count": 21,
   "metadata": {},
   "outputs": [
    {
     "name": "stdout",
     "output_type": "stream",
     "text": [
      "            AAPL_Adj_Close  FB_Adj_Close  GOOG_Adj_Close  MSFT_Adj_Close  \\\n",
      "Dt                                                                         \n",
      "2017-12-29        164.2589        176.46         1046.40         83.1412   \n",
      "2018-01-02        167.1999        181.42         1065.00         83.5397   \n",
      "2018-01-03        167.1708        184.67         1082.48         83.9285   \n",
      "2018-01-04        167.9473        184.33         1086.40         84.6671   \n",
      "2018-01-05        169.8594        186.85         1102.23         85.7169   \n",
      "\n",
      "            SPY_Adj_Close  \n",
      "Dt                         \n",
      "2017-12-29       258.2823  \n",
      "2018-01-02       260.1310  \n",
      "2018-01-03       261.7763  \n",
      "2018-01-04       262.8796  \n",
      "2018-01-05       264.6314  \n"
     ]
    }
   ],
   "source": [
    "# Create DataFrame of Price Levels for the Training Examples\n",
    "start_dt_2 = \"2018-01-02\"\n",
    "end_dt_2 = \"2018-09-28\"\n",
    "\n",
    "train_data_price_2 = getRange(data_2, start_dt_2, end_dt_2)\n",
    "print(train_data_price_2.head())"
   ]
  },
  {
   "cell_type": "code",
   "execution_count": 22,
   "metadata": {},
   "outputs": [
    {
     "data": {
      "text/html": [
       "<div>\n",
       "<style scoped>\n",
       "    .dataframe tbody tr th:only-of-type {\n",
       "        vertical-align: middle;\n",
       "    }\n",
       "\n",
       "    .dataframe tbody tr th {\n",
       "        vertical-align: top;\n",
       "    }\n",
       "\n",
       "    .dataframe thead th {\n",
       "        text-align: right;\n",
       "    }\n",
       "</style>\n",
       "<table border=\"1\" class=\"dataframe\">\n",
       "  <thead>\n",
       "    <tr style=\"text-align: right;\">\n",
       "      <th></th>\n",
       "      <th>AAPL_Adj_Close</th>\n",
       "      <th>FB_Adj_Close</th>\n",
       "      <th>GOOG_Adj_Close</th>\n",
       "      <th>MSFT_Adj_Close</th>\n",
       "      <th>SPY_Adj_Close</th>\n",
       "    </tr>\n",
       "    <tr>\n",
       "      <th>Dt</th>\n",
       "      <th></th>\n",
       "      <th></th>\n",
       "      <th></th>\n",
       "      <th></th>\n",
       "      <th></th>\n",
       "    </tr>\n",
       "  </thead>\n",
       "  <tbody>\n",
       "    <tr>\n",
       "      <th>2018-09-28</th>\n",
       "      <td>221.6252</td>\n",
       "      <td>164.46</td>\n",
       "      <td>1193.4700</td>\n",
       "      <td>112.6006</td>\n",
       "      <td>285.0555</td>\n",
       "    </tr>\n",
       "    <tr>\n",
       "      <th>2018-10-01</th>\n",
       "      <td>223.1175</td>\n",
       "      <td>162.44</td>\n",
       "      <td>1195.3101</td>\n",
       "      <td>113.8214</td>\n",
       "      <td>286.0458</td>\n",
       "    </tr>\n",
       "    <tr>\n",
       "      <th>2018-10-02</th>\n",
       "      <td>225.1006</td>\n",
       "      <td>159.33</td>\n",
       "      <td>1200.1100</td>\n",
       "      <td>113.3686</td>\n",
       "      <td>285.8791</td>\n",
       "    </tr>\n",
       "    <tr>\n",
       "      <th>2018-10-03</th>\n",
       "      <td>227.8398</td>\n",
       "      <td>162.43</td>\n",
       "      <td>1202.9500</td>\n",
       "      <td>113.3882</td>\n",
       "      <td>286.0359</td>\n",
       "    </tr>\n",
       "    <tr>\n",
       "      <th>2018-10-04</th>\n",
       "      <td>223.8342</td>\n",
       "      <td>158.85</td>\n",
       "      <td>1168.1899</td>\n",
       "      <td>111.0451</td>\n",
       "      <td>283.8004</td>\n",
       "    </tr>\n",
       "  </tbody>\n",
       "</table>\n",
       "</div>"
      ],
      "text/plain": [
       "            AAPL_Adj_Close  FB_Adj_Close  GOOG_Adj_Close  MSFT_Adj_Close  \\\n",
       "Dt                                                                         \n",
       "2018-09-28        221.6252        164.46       1193.4700        112.6006   \n",
       "2018-10-01        223.1175        162.44       1195.3101        113.8214   \n",
       "2018-10-02        225.1006        159.33       1200.1100        113.3686   \n",
       "2018-10-03        227.8398        162.43       1202.9500        113.3882   \n",
       "2018-10-04        223.8342        158.85       1168.1899        111.0451   \n",
       "\n",
       "            SPY_Adj_Close  \n",
       "Dt                         \n",
       "2018-09-28       285.0555  \n",
       "2018-10-01       286.0458  \n",
       "2018-10-02       285.8791  \n",
       "2018-10-03       286.0359  \n",
       "2018-10-04       283.8004  "
      ]
     },
     "execution_count": 22,
     "metadata": {},
     "output_type": "execute_result"
    }
   ],
   "source": [
    "# Create Test Set\n",
    "test_start_dt_2 = '2018-10-01'\n",
    "test_end_dt_2 = '2018-12-31'\n",
    "\n",
    "test_data_price_2 = getRange(data_2, test_start_dt_2, test_end_dt_2)\n",
    "test_data_price_2.head()"
   ]
  },
  {
   "cell_type": "code",
   "execution_count": 23,
   "metadata": {},
   "outputs": [],
   "source": [
    "# Prepare the Data"
   ]
  },
  {
   "cell_type": "code",
   "execution_count": 24,
   "metadata": {},
   "outputs": [
    {
     "data": {
      "text/html": [
       "<div>\n",
       "<style scoped>\n",
       "    .dataframe tbody tr th:only-of-type {\n",
       "        vertical-align: middle;\n",
       "    }\n",
       "\n",
       "    .dataframe tbody tr th {\n",
       "        vertical-align: top;\n",
       "    }\n",
       "\n",
       "    .dataframe thead th {\n",
       "        text-align: right;\n",
       "    }\n",
       "</style>\n",
       "<table border=\"1\" class=\"dataframe\">\n",
       "  <thead>\n",
       "    <tr style=\"text-align: right;\">\n",
       "      <th></th>\n",
       "      <th>AAPL_Adj_Close</th>\n",
       "      <th>FB_Adj_Close</th>\n",
       "      <th>GOOG_Adj_Close</th>\n",
       "      <th>MSFT_Adj_Close</th>\n",
       "      <th>SPY_Adj_Close</th>\n",
       "    </tr>\n",
       "    <tr>\n",
       "      <th>Dt</th>\n",
       "      <th></th>\n",
       "      <th></th>\n",
       "      <th></th>\n",
       "      <th></th>\n",
       "      <th></th>\n",
       "    </tr>\n",
       "  </thead>\n",
       "  <tbody>\n",
       "    <tr>\n",
       "      <th>2017-12-29</th>\n",
       "      <td>NaN</td>\n",
       "      <td>NaN</td>\n",
       "      <td>NaN</td>\n",
       "      <td>NaN</td>\n",
       "      <td>NaN</td>\n",
       "    </tr>\n",
       "    <tr>\n",
       "      <th>2018-01-02</th>\n",
       "      <td>0.017905</td>\n",
       "      <td>0.028108</td>\n",
       "      <td>0.017775</td>\n",
       "      <td>0.004793</td>\n",
       "      <td>0.007158</td>\n",
       "    </tr>\n",
       "    <tr>\n",
       "      <th>2018-01-03</th>\n",
       "      <td>-0.000174</td>\n",
       "      <td>0.017914</td>\n",
       "      <td>0.016413</td>\n",
       "      <td>0.004654</td>\n",
       "      <td>0.006325</td>\n",
       "    </tr>\n",
       "    <tr>\n",
       "      <th>2018-01-04</th>\n",
       "      <td>0.004645</td>\n",
       "      <td>-0.001841</td>\n",
       "      <td>0.003621</td>\n",
       "      <td>0.008800</td>\n",
       "      <td>0.004215</td>\n",
       "    </tr>\n",
       "    <tr>\n",
       "      <th>2018-01-05</th>\n",
       "      <td>0.011385</td>\n",
       "      <td>0.013671</td>\n",
       "      <td>0.014571</td>\n",
       "      <td>0.012399</td>\n",
       "      <td>0.006664</td>\n",
       "    </tr>\n",
       "  </tbody>\n",
       "</table>\n",
       "</div>"
      ],
      "text/plain": [
       "            AAPL_Adj_Close  FB_Adj_Close  GOOG_Adj_Close  MSFT_Adj_Close  \\\n",
       "Dt                                                                         \n",
       "2017-12-29             NaN           NaN             NaN             NaN   \n",
       "2018-01-02        0.017905      0.028108        0.017775        0.004793   \n",
       "2018-01-03       -0.000174      0.017914        0.016413        0.004654   \n",
       "2018-01-04        0.004645     -0.001841        0.003621        0.008800   \n",
       "2018-01-05        0.011385      0.013671        0.014571        0.012399   \n",
       "\n",
       "            SPY_Adj_Close  \n",
       "Dt                         \n",
       "2017-12-29            NaN  \n",
       "2018-01-02       0.007158  \n",
       "2018-01-03       0.006325  \n",
       "2018-01-04       0.004215  \n",
       "2018-01-05       0.006664  "
      ]
     },
     "execution_count": 24,
     "metadata": {},
     "output_type": "execute_result"
    }
   ],
   "source": [
    "# Transformations: Transform the Training Data\n",
    "# Create DataFrame of returns for training examples\n",
    "train_data_ret_2 = getReturns(train_data_price_2)\n",
    "train_data_ret_2.head()"
   ]
  },
  {
   "cell_type": "code",
   "execution_count": 25,
   "metadata": {},
   "outputs": [
    {
     "data": {
      "text/html": [
       "<div>\n",
       "<style scoped>\n",
       "    .dataframe tbody tr th:only-of-type {\n",
       "        vertical-align: middle;\n",
       "    }\n",
       "\n",
       "    .dataframe tbody tr th {\n",
       "        vertical-align: top;\n",
       "    }\n",
       "\n",
       "    .dataframe thead th {\n",
       "        text-align: right;\n",
       "    }\n",
       "</style>\n",
       "<table border=\"1\" class=\"dataframe\">\n",
       "  <thead>\n",
       "    <tr style=\"text-align: right;\">\n",
       "      <th></th>\n",
       "      <th>AAPL_Ret</th>\n",
       "      <th>FB_Ret</th>\n",
       "      <th>GOOG_Ret</th>\n",
       "      <th>MSFT_Ret</th>\n",
       "      <th>SPY_Ret</th>\n",
       "    </tr>\n",
       "    <tr>\n",
       "      <th>Dt</th>\n",
       "      <th></th>\n",
       "      <th></th>\n",
       "      <th></th>\n",
       "      <th></th>\n",
       "      <th></th>\n",
       "    </tr>\n",
       "  </thead>\n",
       "  <tbody>\n",
       "    <tr>\n",
       "      <th>2018-01-02</th>\n",
       "      <td>0.017905</td>\n",
       "      <td>0.028108</td>\n",
       "      <td>0.017775</td>\n",
       "      <td>0.004793</td>\n",
       "      <td>0.007158</td>\n",
       "    </tr>\n",
       "    <tr>\n",
       "      <th>2018-01-03</th>\n",
       "      <td>-0.000174</td>\n",
       "      <td>0.017914</td>\n",
       "      <td>0.016413</td>\n",
       "      <td>0.004654</td>\n",
       "      <td>0.006325</td>\n",
       "    </tr>\n",
       "    <tr>\n",
       "      <th>2018-01-04</th>\n",
       "      <td>0.004645</td>\n",
       "      <td>-0.001841</td>\n",
       "      <td>0.003621</td>\n",
       "      <td>0.008800</td>\n",
       "      <td>0.004215</td>\n",
       "    </tr>\n",
       "    <tr>\n",
       "      <th>2018-01-05</th>\n",
       "      <td>0.011385</td>\n",
       "      <td>0.013671</td>\n",
       "      <td>0.014571</td>\n",
       "      <td>0.012399</td>\n",
       "      <td>0.006664</td>\n",
       "    </tr>\n",
       "    <tr>\n",
       "      <th>2018-01-08</th>\n",
       "      <td>-0.003714</td>\n",
       "      <td>0.007653</td>\n",
       "      <td>0.004273</td>\n",
       "      <td>0.001020</td>\n",
       "      <td>0.001829</td>\n",
       "    </tr>\n",
       "  </tbody>\n",
       "</table>\n",
       "</div>"
      ],
      "text/plain": [
       "            AAPL_Ret    FB_Ret  GOOG_Ret  MSFT_Ret   SPY_Ret\n",
       "Dt                                                          \n",
       "2018-01-02  0.017905  0.028108  0.017775  0.004793  0.007158\n",
       "2018-01-03 -0.000174  0.017914  0.016413  0.004654  0.006325\n",
       "2018-01-04  0.004645 -0.001841  0.003621  0.008800  0.004215\n",
       "2018-01-05  0.011385  0.013671  0.014571  0.012399  0.006664\n",
       "2018-01-08 -0.003714  0.007653  0.004273  0.001020  0.001829"
      ]
     },
     "execution_count": 25,
     "metadata": {},
     "output_type": "execute_result"
    }
   ],
   "source": [
    "## Rename the columns to indicate that they have been transformed from price (Adj_Close) to return\n",
    "train_data_ret_2 = helper.renamePriceToRet( train_data_ret_2 )\n",
    "\n",
    "## Drop the first date (the day before `start_dt`) since it has an undefined return\n",
    "train_data_ret_2 = train_data_ret_2[ start_dt_2:]\n",
    "train_data_ret_2.head()"
   ]
  },
  {
   "cell_type": "code",
   "execution_count": 26,
   "metadata": {},
   "outputs": [],
   "source": [
    "# Remove the target\n",
    "\n",
    "X_train_2, y_train_2 =  train_data_ret_2.drop(columns = ['AAPL_Ret']), train_data_ret_2[['AAPL_Ret']]"
   ]
  },
  {
   "cell_type": "code",
   "execution_count": 27,
   "metadata": {},
   "outputs": [
    {
     "name": "stdout",
     "output_type": "stream",
     "text": [
      "test data length 2 63\n",
      "X test length 2 63\n",
      "y test length 2 63\n"
     ]
    },
    {
     "data": {
      "text/html": [
       "<div>\n",
       "<style scoped>\n",
       "    .dataframe tbody tr th:only-of-type {\n",
       "        vertical-align: middle;\n",
       "    }\n",
       "\n",
       "    .dataframe tbody tr th {\n",
       "        vertical-align: top;\n",
       "    }\n",
       "\n",
       "    .dataframe thead th {\n",
       "        text-align: right;\n",
       "    }\n",
       "</style>\n",
       "<table border=\"1\" class=\"dataframe\">\n",
       "  <thead>\n",
       "    <tr style=\"text-align: right;\">\n",
       "      <th></th>\n",
       "      <th>AAPL_Ret</th>\n",
       "      <th>FB_Ret</th>\n",
       "      <th>GOOG_Ret</th>\n",
       "      <th>MSFT_Ret</th>\n",
       "      <th>SPY_Ret</th>\n",
       "    </tr>\n",
       "    <tr>\n",
       "      <th>Dt</th>\n",
       "      <th></th>\n",
       "      <th></th>\n",
       "      <th></th>\n",
       "      <th></th>\n",
       "      <th></th>\n",
       "    </tr>\n",
       "  </thead>\n",
       "  <tbody>\n",
       "    <tr>\n",
       "      <th>2018-10-01</th>\n",
       "      <td>0.006733</td>\n",
       "      <td>-0.012283</td>\n",
       "      <td>0.001542</td>\n",
       "      <td>0.010842</td>\n",
       "      <td>0.003474</td>\n",
       "    </tr>\n",
       "    <tr>\n",
       "      <th>2018-10-02</th>\n",
       "      <td>0.008888</td>\n",
       "      <td>-0.019146</td>\n",
       "      <td>0.004016</td>\n",
       "      <td>-0.003978</td>\n",
       "      <td>-0.000583</td>\n",
       "    </tr>\n",
       "    <tr>\n",
       "      <th>2018-10-03</th>\n",
       "      <td>0.012169</td>\n",
       "      <td>0.019456</td>\n",
       "      <td>0.002366</td>\n",
       "      <td>0.000173</td>\n",
       "      <td>0.000548</td>\n",
       "    </tr>\n",
       "    <tr>\n",
       "      <th>2018-10-04</th>\n",
       "      <td>-0.017581</td>\n",
       "      <td>-0.022040</td>\n",
       "      <td>-0.028896</td>\n",
       "      <td>-0.020664</td>\n",
       "      <td>-0.007815</td>\n",
       "    </tr>\n",
       "    <tr>\n",
       "      <th>2018-10-05</th>\n",
       "      <td>-0.016229</td>\n",
       "      <td>-0.009569</td>\n",
       "      <td>-0.009279</td>\n",
       "      <td>-0.005852</td>\n",
       "      <td>-0.005597</td>\n",
       "    </tr>\n",
       "  </tbody>\n",
       "</table>\n",
       "</div>"
      ],
      "text/plain": [
       "            AAPL_Ret    FB_Ret  GOOG_Ret  MSFT_Ret   SPY_Ret\n",
       "Dt                                                          \n",
       "2018-10-01  0.006733 -0.012283  0.001542  0.010842  0.003474\n",
       "2018-10-02  0.008888 -0.019146  0.004016 -0.003978 -0.000583\n",
       "2018-10-03  0.012169  0.019456  0.002366  0.000173  0.000548\n",
       "2018-10-04 -0.017581 -0.022040 -0.028896 -0.020664 -0.007815\n",
       "2018-10-05 -0.016229 -0.009569 -0.009279 -0.005852 -0.005597"
      ]
     },
     "execution_count": 27,
     "metadata": {},
     "output_type": "execute_result"
    }
   ],
   "source": [
    "# Transformations: Transform the Test Data\n",
    "test_data_ret_2 = (helper.renamePriceToRet(getReturns(test_data_price_2)))[test_start_dt_2:]\n",
    "\n",
    "X_test_2, y_test_2 = test_data_ret_2.drop(columns = ['AAPL_Ret']), test_data_ret_2[['AAPL_Ret']]\n",
    "\n",
    "print(\"test data length 2\", test_data_ret_2.shape[0])\n",
    "print(\"X test length 2\", X_test_2.shape[0])\n",
    "print(\"y test length 2\", y_test_2.shape[0])\n",
    "test_data_ret_2.head()"
   ]
  },
  {
   "cell_type": "code",
   "execution_count": 28,
   "metadata": {
    "scrolled": true
   },
   "outputs": [
    {
     "name": "stdout",
     "output_type": "stream",
     "text": [
      "AAPL: beta_0=0.001, beta_FB=-0.011, beta_GOOG=0.148, beta_MSFT=0.154, beta_SPY=0.652\n"
     ]
    }
   ],
   "source": [
    "# Train the Model (Regression)\n",
    "beta_0, beta_FB, beta_GOOG, beta_MSFT, beta_SPY = regress(regr, X_train_2, y_train_2)\n",
    "\n",
    "\n",
    "print(\"{t:s}: beta_0={b0:3.3f}, beta_FB={b1:3.3f}, beta_GOOG={b2:3.3f}, beta_MSFT={b3:3.3f}, beta_SPY={b4:3.3f}\"\n",
    "      .format(t='AAPL', b0=beta_0, b1=beta_FB, b2=beta_GOOG, b3=beta_MSFT, b4=beta_SPY))"
   ]
  },
  {
   "cell_type": "code",
   "execution_count": null,
   "metadata": {},
   "outputs": [],
   "source": []
  },
  {
   "cell_type": "code",
   "execution_count": 29,
   "metadata": {},
   "outputs": [
    {
     "name": "stdout",
     "output_type": "stream",
     "text": [
      "AAPL: Avg cross val score 2 = 0.32\n"
     ]
    }
   ],
   "source": [
    "# Train the Model Using Cross Validation\n",
    "cross_val_avg_2 = compute_cross_val_avg(regr, X_train_2, y_train_2, 5)\n",
    "print(\"{t:s}: Avg cross val score 2 = {sc:3.2f}\".format(t='AAPL', sc=cross_val_avg_2) )"
   ]
  },
  {
   "cell_type": "code",
   "execution_count": 30,
   "metadata": {},
   "outputs": [
    {
     "name": "stdout",
     "output_type": "stream",
     "text": [
      "In Sample Root Mean squared error 2: 0.011\n",
      "Out of Sample Root Mean squared error 2: 0.015\n"
     ]
    }
   ],
   "source": [
    "# Evaluate Loss (In Sample RMSE) and Performance (Out of Sample RMSE)\n",
    "\n",
    "# Predicted  in-sample returns of AAPL using new features\n",
    "aapl_predicted_in_sample_2 = regr.predict(X_train_2)\n",
    "# Predicted out-of-sample returns of AAPL using new features\n",
    "aapl_predicted_out_sample_2 = regr.predict(X_test_2)\n",
    "\n",
    "rmse_in_sample_2 = computeRMSE(y_train_2, aapl_predicted_in_sample_2)\n",
    "rmse_out_sample_2 = computeRMSE(y_test_2, aapl_predicted_out_sample_2)\n",
    "\n",
    "print(\"In Sample Root Mean squared error 2: {:.3f}\".format( rmse_in_sample_2 ) )\n",
    "print(\"Out of Sample Root Mean squared error 2: {:.3f}\".format( rmse_out_sample_2 ) )"
   ]
  },
  {
   "cell_type": "code",
   "execution_count": 31,
   "metadata": {},
   "outputs": [],
   "source": [
    "# The result of model 2 shows that \"Average cross validation score\", \"In sample RMSE\", and \"Out of sample RMSE\" all\n",
    "# do not improve a lot by comparing to the previous model. \n",
    "# Thus, different features should be selected to improve the prediction power and accuracy of the linear regression\n",
    "# model"
   ]
  },
  {
   "cell_type": "code",
   "execution_count": null,
   "metadata": {},
   "outputs": [],
   "source": []
  },
  {
   "cell_type": "code",
   "execution_count": 32,
   "metadata": {},
   "outputs": [],
   "source": [
    "# In model 3, the stock index would be changed to \"XLK\", which is the index of \"Technology Select Sector SPDR Fund\",\n",
    "# this feature would be more representative than \"SPY\" while analyzing the return of \"AAPL\".\n",
    "\n",
    "ticker_3 = \"AAPL\", \"FB\", \"GOOG\", \"MSFT\"\n",
    "index_ticker = \"XLK\"\n",
    "dateAttr = \"Dt\"\n",
    "priceAttr = \"Adj Close\" \n",
    "\n",
    "# Get the Data\n",
    "data_3 = helper.getData(list(ticker_3), index_ticker, [priceAttr])"
   ]
  },
  {
   "cell_type": "code",
   "execution_count": 33,
   "metadata": {},
   "outputs": [
    {
     "data": {
      "text/html": [
       "<div>\n",
       "<style scoped>\n",
       "    .dataframe tbody tr th:only-of-type {\n",
       "        vertical-align: middle;\n",
       "    }\n",
       "\n",
       "    .dataframe tbody tr th {\n",
       "        vertical-align: top;\n",
       "    }\n",
       "\n",
       "    .dataframe thead th {\n",
       "        text-align: right;\n",
       "    }\n",
       "</style>\n",
       "<table border=\"1\" class=\"dataframe\">\n",
       "  <thead>\n",
       "    <tr style=\"text-align: right;\">\n",
       "      <th></th>\n",
       "      <th>AAPL_Adj_Close</th>\n",
       "      <th>FB_Adj_Close</th>\n",
       "      <th>GOOG_Adj_Close</th>\n",
       "      <th>MSFT_Adj_Close</th>\n",
       "      <th>XLK_Adj_Close</th>\n",
       "    </tr>\n",
       "    <tr>\n",
       "      <th>Dt</th>\n",
       "      <th></th>\n",
       "      <th></th>\n",
       "      <th></th>\n",
       "      <th></th>\n",
       "      <th></th>\n",
       "    </tr>\n",
       "  </thead>\n",
       "  <tbody>\n",
       "    <tr>\n",
       "      <th>2017-01-03</th>\n",
       "      <td>110.9539</td>\n",
       "      <td>116.86</td>\n",
       "      <td>786.14</td>\n",
       "      <td>59.4966</td>\n",
       "      <td>46.9054</td>\n",
       "    </tr>\n",
       "    <tr>\n",
       "      <th>2017-01-04</th>\n",
       "      <td>110.8297</td>\n",
       "      <td>118.69</td>\n",
       "      <td>786.90</td>\n",
       "      <td>59.2304</td>\n",
       "      <td>47.0689</td>\n",
       "    </tr>\n",
       "    <tr>\n",
       "      <th>2017-01-05</th>\n",
       "      <td>111.3933</td>\n",
       "      <td>120.67</td>\n",
       "      <td>794.02</td>\n",
       "      <td>59.2304</td>\n",
       "      <td>47.1458</td>\n",
       "    </tr>\n",
       "    <tr>\n",
       "      <th>2017-01-06</th>\n",
       "      <td>112.6351</td>\n",
       "      <td>123.41</td>\n",
       "      <td>806.15</td>\n",
       "      <td>59.7438</td>\n",
       "      <td>47.4919</td>\n",
       "    </tr>\n",
       "    <tr>\n",
       "      <th>2017-01-09</th>\n",
       "      <td>113.6668</td>\n",
       "      <td>124.90</td>\n",
       "      <td>806.65</td>\n",
       "      <td>59.5536</td>\n",
       "      <td>47.4823</td>\n",
       "    </tr>\n",
       "  </tbody>\n",
       "</table>\n",
       "</div>"
      ],
      "text/plain": [
       "            AAPL_Adj_Close  FB_Adj_Close  GOOG_Adj_Close  MSFT_Adj_Close  \\\n",
       "Dt                                                                         \n",
       "2017-01-03        110.9539        116.86          786.14         59.4966   \n",
       "2017-01-04        110.8297        118.69          786.90         59.2304   \n",
       "2017-01-05        111.3933        120.67          794.02         59.2304   \n",
       "2017-01-06        112.6351        123.41          806.15         59.7438   \n",
       "2017-01-09        113.6668        124.90          806.65         59.5536   \n",
       "\n",
       "            XLK_Adj_Close  \n",
       "Dt                         \n",
       "2017-01-03        46.9054  \n",
       "2017-01-04        47.0689  \n",
       "2017-01-05        47.1458  \n",
       "2017-01-06        47.4919  \n",
       "2017-01-09        47.4823  "
      ]
     },
     "execution_count": 33,
     "metadata": {},
     "output_type": "execute_result"
    }
   ],
   "source": [
    "# Have a Look at the Data\n",
    "data_3.head()"
   ]
  },
  {
   "cell_type": "code",
   "execution_count": 34,
   "metadata": {},
   "outputs": [
    {
     "name": "stdout",
     "output_type": "stream",
     "text": [
      "Start time 3:  2017-01-03\n",
      "End time 3:  2019-10-31\n"
     ]
    }
   ],
   "source": [
    "# Print the Start time and End time\n",
    "print(\"Start time 3: \", data_3.index.min())\n",
    "print(\"End time 3: \", data_3.index.max())"
   ]
  },
  {
   "cell_type": "code",
   "execution_count": 35,
   "metadata": {},
   "outputs": [
    {
     "name": "stdout",
     "output_type": "stream",
     "text": [
      "            AAPL_Adj_Close  FB_Adj_Close  GOOG_Adj_Close  MSFT_Adj_Close  \\\n",
      "Dt                                                                         \n",
      "2017-12-29        164.2589        176.46         1046.40         83.1412   \n",
      "2018-01-02        167.1999        181.42         1065.00         83.5397   \n",
      "2018-01-03        167.1708        184.67         1082.48         83.9285   \n",
      "2018-01-04        167.9473        184.33         1086.40         84.6671   \n",
      "2018-01-05        169.8594        186.85         1102.23         85.7169   \n",
      "\n",
      "            XLK_Adj_Close  \n",
      "Dt                         \n",
      "2017-12-29        62.4186  \n",
      "2018-01-02        63.1896  \n",
      "2018-01-03        63.7167  \n",
      "2018-01-04        64.0388  \n",
      "2018-01-05        64.7123  \n"
     ]
    }
   ],
   "source": [
    "# Create DataFrame of Price Levels for the Training Examples\n",
    "start_dt_3 = \"2018-01-02\"\n",
    "end_dt_3 = \"2018-09-28\"\n",
    "\n",
    "train_data_price_3 = getRange(data_3, start_dt_3, end_dt_3)\n",
    "print(train_data_price_3.head())"
   ]
  },
  {
   "cell_type": "code",
   "execution_count": 36,
   "metadata": {},
   "outputs": [
    {
     "data": {
      "text/html": [
       "<div>\n",
       "<style scoped>\n",
       "    .dataframe tbody tr th:only-of-type {\n",
       "        vertical-align: middle;\n",
       "    }\n",
       "\n",
       "    .dataframe tbody tr th {\n",
       "        vertical-align: top;\n",
       "    }\n",
       "\n",
       "    .dataframe thead th {\n",
       "        text-align: right;\n",
       "    }\n",
       "</style>\n",
       "<table border=\"1\" class=\"dataframe\">\n",
       "  <thead>\n",
       "    <tr style=\"text-align: right;\">\n",
       "      <th></th>\n",
       "      <th>AAPL_Adj_Close</th>\n",
       "      <th>FB_Adj_Close</th>\n",
       "      <th>GOOG_Adj_Close</th>\n",
       "      <th>MSFT_Adj_Close</th>\n",
       "      <th>XLK_Adj_Close</th>\n",
       "    </tr>\n",
       "    <tr>\n",
       "      <th>Dt</th>\n",
       "      <th></th>\n",
       "      <th></th>\n",
       "      <th></th>\n",
       "      <th></th>\n",
       "      <th></th>\n",
       "    </tr>\n",
       "  </thead>\n",
       "  <tbody>\n",
       "    <tr>\n",
       "      <th>2018-09-28</th>\n",
       "      <td>221.6252</td>\n",
       "      <td>164.46</td>\n",
       "      <td>1193.4700</td>\n",
       "      <td>112.6006</td>\n",
       "      <td>74.2683</td>\n",
       "    </tr>\n",
       "    <tr>\n",
       "      <th>2018-10-01</th>\n",
       "      <td>223.1175</td>\n",
       "      <td>162.44</td>\n",
       "      <td>1195.3101</td>\n",
       "      <td>113.8214</td>\n",
       "      <td>74.6232</td>\n",
       "    </tr>\n",
       "    <tr>\n",
       "      <th>2018-10-02</th>\n",
       "      <td>225.1006</td>\n",
       "      <td>159.33</td>\n",
       "      <td>1200.1100</td>\n",
       "      <td>113.3686</td>\n",
       "      <td>74.6331</td>\n",
       "    </tr>\n",
       "    <tr>\n",
       "      <th>2018-10-03</th>\n",
       "      <td>227.8398</td>\n",
       "      <td>162.43</td>\n",
       "      <td>1202.9500</td>\n",
       "      <td>113.3882</td>\n",
       "      <td>74.8598</td>\n",
       "    </tr>\n",
       "    <tr>\n",
       "      <th>2018-10-04</th>\n",
       "      <td>223.8342</td>\n",
       "      <td>158.85</td>\n",
       "      <td>1168.1899</td>\n",
       "      <td>111.0451</td>\n",
       "      <td>73.5092</td>\n",
       "    </tr>\n",
       "  </tbody>\n",
       "</table>\n",
       "</div>"
      ],
      "text/plain": [
       "            AAPL_Adj_Close  FB_Adj_Close  GOOG_Adj_Close  MSFT_Adj_Close  \\\n",
       "Dt                                                                         \n",
       "2018-09-28        221.6252        164.46       1193.4700        112.6006   \n",
       "2018-10-01        223.1175        162.44       1195.3101        113.8214   \n",
       "2018-10-02        225.1006        159.33       1200.1100        113.3686   \n",
       "2018-10-03        227.8398        162.43       1202.9500        113.3882   \n",
       "2018-10-04        223.8342        158.85       1168.1899        111.0451   \n",
       "\n",
       "            XLK_Adj_Close  \n",
       "Dt                         \n",
       "2018-09-28        74.2683  \n",
       "2018-10-01        74.6232  \n",
       "2018-10-02        74.6331  \n",
       "2018-10-03        74.8598  \n",
       "2018-10-04        73.5092  "
      ]
     },
     "execution_count": 36,
     "metadata": {},
     "output_type": "execute_result"
    }
   ],
   "source": [
    "# Create Test Set\n",
    "test_start_dt_3 = '2018-10-01'\n",
    "test_end_dt_3 = '2018-12-31'\n",
    "\n",
    "test_data_price_3 = getRange(data_3, test_start_dt_3, test_end_dt_3)\n",
    "test_data_price_3.head()"
   ]
  },
  {
   "cell_type": "code",
   "execution_count": 37,
   "metadata": {},
   "outputs": [
    {
     "data": {
      "text/html": [
       "<div>\n",
       "<style scoped>\n",
       "    .dataframe tbody tr th:only-of-type {\n",
       "        vertical-align: middle;\n",
       "    }\n",
       "\n",
       "    .dataframe tbody tr th {\n",
       "        vertical-align: top;\n",
       "    }\n",
       "\n",
       "    .dataframe thead th {\n",
       "        text-align: right;\n",
       "    }\n",
       "</style>\n",
       "<table border=\"1\" class=\"dataframe\">\n",
       "  <thead>\n",
       "    <tr style=\"text-align: right;\">\n",
       "      <th></th>\n",
       "      <th>AAPL_Adj_Close</th>\n",
       "      <th>FB_Adj_Close</th>\n",
       "      <th>GOOG_Adj_Close</th>\n",
       "      <th>MSFT_Adj_Close</th>\n",
       "      <th>XLK_Adj_Close</th>\n",
       "    </tr>\n",
       "    <tr>\n",
       "      <th>Dt</th>\n",
       "      <th></th>\n",
       "      <th></th>\n",
       "      <th></th>\n",
       "      <th></th>\n",
       "      <th></th>\n",
       "    </tr>\n",
       "  </thead>\n",
       "  <tbody>\n",
       "    <tr>\n",
       "      <th>2017-12-29</th>\n",
       "      <td>NaN</td>\n",
       "      <td>NaN</td>\n",
       "      <td>NaN</td>\n",
       "      <td>NaN</td>\n",
       "      <td>NaN</td>\n",
       "    </tr>\n",
       "    <tr>\n",
       "      <th>2018-01-02</th>\n",
       "      <td>0.017905</td>\n",
       "      <td>0.028108</td>\n",
       "      <td>0.017775</td>\n",
       "      <td>0.004793</td>\n",
       "      <td>0.012352</td>\n",
       "    </tr>\n",
       "    <tr>\n",
       "      <th>2018-01-03</th>\n",
       "      <td>-0.000174</td>\n",
       "      <td>0.017914</td>\n",
       "      <td>0.016413</td>\n",
       "      <td>0.004654</td>\n",
       "      <td>0.008342</td>\n",
       "    </tr>\n",
       "    <tr>\n",
       "      <th>2018-01-04</th>\n",
       "      <td>0.004645</td>\n",
       "      <td>-0.001841</td>\n",
       "      <td>0.003621</td>\n",
       "      <td>0.008800</td>\n",
       "      <td>0.005055</td>\n",
       "    </tr>\n",
       "    <tr>\n",
       "      <th>2018-01-05</th>\n",
       "      <td>0.011385</td>\n",
       "      <td>0.013671</td>\n",
       "      <td>0.014571</td>\n",
       "      <td>0.012399</td>\n",
       "      <td>0.010517</td>\n",
       "    </tr>\n",
       "  </tbody>\n",
       "</table>\n",
       "</div>"
      ],
      "text/plain": [
       "            AAPL_Adj_Close  FB_Adj_Close  GOOG_Adj_Close  MSFT_Adj_Close  \\\n",
       "Dt                                                                         \n",
       "2017-12-29             NaN           NaN             NaN             NaN   \n",
       "2018-01-02        0.017905      0.028108        0.017775        0.004793   \n",
       "2018-01-03       -0.000174      0.017914        0.016413        0.004654   \n",
       "2018-01-04        0.004645     -0.001841        0.003621        0.008800   \n",
       "2018-01-05        0.011385      0.013671        0.014571        0.012399   \n",
       "\n",
       "            XLK_Adj_Close  \n",
       "Dt                         \n",
       "2017-12-29            NaN  \n",
       "2018-01-02       0.012352  \n",
       "2018-01-03       0.008342  \n",
       "2018-01-04       0.005055  \n",
       "2018-01-05       0.010517  "
      ]
     },
     "execution_count": 37,
     "metadata": {},
     "output_type": "execute_result"
    }
   ],
   "source": [
    "# Transformations: Transform the Training Data\n",
    "# Create DataFrame of returns for training examples\n",
    "train_data_ret_3 = getReturns(train_data_price_3)\n",
    "train_data_ret_3.head()"
   ]
  },
  {
   "cell_type": "code",
   "execution_count": 38,
   "metadata": {},
   "outputs": [
    {
     "data": {
      "text/html": [
       "<div>\n",
       "<style scoped>\n",
       "    .dataframe tbody tr th:only-of-type {\n",
       "        vertical-align: middle;\n",
       "    }\n",
       "\n",
       "    .dataframe tbody tr th {\n",
       "        vertical-align: top;\n",
       "    }\n",
       "\n",
       "    .dataframe thead th {\n",
       "        text-align: right;\n",
       "    }\n",
       "</style>\n",
       "<table border=\"1\" class=\"dataframe\">\n",
       "  <thead>\n",
       "    <tr style=\"text-align: right;\">\n",
       "      <th></th>\n",
       "      <th>AAPL_Ret</th>\n",
       "      <th>FB_Ret</th>\n",
       "      <th>GOOG_Ret</th>\n",
       "      <th>MSFT_Ret</th>\n",
       "      <th>XLK_Ret</th>\n",
       "    </tr>\n",
       "    <tr>\n",
       "      <th>Dt</th>\n",
       "      <th></th>\n",
       "      <th></th>\n",
       "      <th></th>\n",
       "      <th></th>\n",
       "      <th></th>\n",
       "    </tr>\n",
       "  </thead>\n",
       "  <tbody>\n",
       "    <tr>\n",
       "      <th>2018-01-02</th>\n",
       "      <td>0.017905</td>\n",
       "      <td>0.028108</td>\n",
       "      <td>0.017775</td>\n",
       "      <td>0.004793</td>\n",
       "      <td>0.012352</td>\n",
       "    </tr>\n",
       "    <tr>\n",
       "      <th>2018-01-03</th>\n",
       "      <td>-0.000174</td>\n",
       "      <td>0.017914</td>\n",
       "      <td>0.016413</td>\n",
       "      <td>0.004654</td>\n",
       "      <td>0.008342</td>\n",
       "    </tr>\n",
       "    <tr>\n",
       "      <th>2018-01-04</th>\n",
       "      <td>0.004645</td>\n",
       "      <td>-0.001841</td>\n",
       "      <td>0.003621</td>\n",
       "      <td>0.008800</td>\n",
       "      <td>0.005055</td>\n",
       "    </tr>\n",
       "    <tr>\n",
       "      <th>2018-01-05</th>\n",
       "      <td>0.011385</td>\n",
       "      <td>0.013671</td>\n",
       "      <td>0.014571</td>\n",
       "      <td>0.012399</td>\n",
       "      <td>0.010517</td>\n",
       "    </tr>\n",
       "    <tr>\n",
       "      <th>2018-01-08</th>\n",
       "      <td>-0.003714</td>\n",
       "      <td>0.007653</td>\n",
       "      <td>0.004273</td>\n",
       "      <td>0.001020</td>\n",
       "      <td>0.003771</td>\n",
       "    </tr>\n",
       "  </tbody>\n",
       "</table>\n",
       "</div>"
      ],
      "text/plain": [
       "            AAPL_Ret    FB_Ret  GOOG_Ret  MSFT_Ret   XLK_Ret\n",
       "Dt                                                          \n",
       "2018-01-02  0.017905  0.028108  0.017775  0.004793  0.012352\n",
       "2018-01-03 -0.000174  0.017914  0.016413  0.004654  0.008342\n",
       "2018-01-04  0.004645 -0.001841  0.003621  0.008800  0.005055\n",
       "2018-01-05  0.011385  0.013671  0.014571  0.012399  0.010517\n",
       "2018-01-08 -0.003714  0.007653  0.004273  0.001020  0.003771"
      ]
     },
     "execution_count": 38,
     "metadata": {},
     "output_type": "execute_result"
    }
   ],
   "source": [
    "## Rename the columns to indicate that they have been transformed from price (Adj_Close) to return\n",
    "train_data_ret_3 = helper.renamePriceToRet( train_data_ret_3 )\n",
    "\n",
    "## Drop the first date (the day before `start_dt`) since it has an undefined return\n",
    "train_data_ret_3 = train_data_ret_3[ start_dt_3:]\n",
    "train_data_ret_3.head()"
   ]
  },
  {
   "cell_type": "code",
   "execution_count": 39,
   "metadata": {},
   "outputs": [
    {
     "name": "stdout",
     "output_type": "stream",
     "text": [
      "              FB_Ret  GOOG_Ret  MSFT_Ret   XLK_Ret\n",
      "Dt                                                \n",
      "2018-01-02  0.028108  0.017775  0.004793  0.012352\n",
      "2018-01-03  0.017914  0.016413  0.004654  0.008342\n",
      "2018-01-04 -0.001841  0.003621  0.008800  0.005055\n",
      "2018-01-05  0.013671  0.014571  0.012399  0.010517\n",
      "2018-01-08  0.007653  0.004273  0.001020  0.003771\n",
      "            AAPL_Ret\n",
      "Dt                  \n",
      "2018-01-02  0.017905\n",
      "2018-01-03 -0.000174\n",
      "2018-01-04  0.004645\n",
      "2018-01-05  0.011385\n",
      "2018-01-08 -0.003714\n"
     ]
    }
   ],
   "source": [
    "# Remove the target\n",
    "\n",
    "X_train_3, y_train_3 =  train_data_ret_3.drop(columns = ['AAPL_Ret']), train_data_ret_3[['AAPL_Ret']]\n",
    "print(X_train_3.head())\n",
    "print(y_train_3.head())"
   ]
  },
  {
   "cell_type": "code",
   "execution_count": 40,
   "metadata": {},
   "outputs": [
    {
     "name": "stdout",
     "output_type": "stream",
     "text": [
      "test data length 3 63\n",
      "X test length 3 63\n",
      "y test length 3 63\n",
      "              FB_Ret  GOOG_Ret  MSFT_Ret   XLK_Ret\n",
      "Dt                                                \n",
      "2018-10-01 -0.012283  0.001542  0.010842  0.004779\n",
      "2018-10-02 -0.019146  0.004016 -0.003978  0.000133\n",
      "2018-10-03  0.019456  0.002366  0.000173  0.003038\n",
      "2018-10-04 -0.022040 -0.028896 -0.020664 -0.018042\n",
      "2018-10-05 -0.009569 -0.009279 -0.005852 -0.012608\n",
      "            AAPL_Ret\n",
      "Dt                  \n",
      "2018-10-01  0.006733\n",
      "2018-10-02  0.008888\n",
      "2018-10-03  0.012169\n",
      "2018-10-04 -0.017581\n",
      "2018-10-05 -0.016229\n"
     ]
    },
    {
     "data": {
      "text/html": [
       "<div>\n",
       "<style scoped>\n",
       "    .dataframe tbody tr th:only-of-type {\n",
       "        vertical-align: middle;\n",
       "    }\n",
       "\n",
       "    .dataframe tbody tr th {\n",
       "        vertical-align: top;\n",
       "    }\n",
       "\n",
       "    .dataframe thead th {\n",
       "        text-align: right;\n",
       "    }\n",
       "</style>\n",
       "<table border=\"1\" class=\"dataframe\">\n",
       "  <thead>\n",
       "    <tr style=\"text-align: right;\">\n",
       "      <th></th>\n",
       "      <th>AAPL_Ret</th>\n",
       "      <th>FB_Ret</th>\n",
       "      <th>GOOG_Ret</th>\n",
       "      <th>MSFT_Ret</th>\n",
       "      <th>XLK_Ret</th>\n",
       "    </tr>\n",
       "    <tr>\n",
       "      <th>Dt</th>\n",
       "      <th></th>\n",
       "      <th></th>\n",
       "      <th></th>\n",
       "      <th></th>\n",
       "      <th></th>\n",
       "    </tr>\n",
       "  </thead>\n",
       "  <tbody>\n",
       "    <tr>\n",
       "      <th>2018-10-01</th>\n",
       "      <td>0.006733</td>\n",
       "      <td>-0.012283</td>\n",
       "      <td>0.001542</td>\n",
       "      <td>0.010842</td>\n",
       "      <td>0.004779</td>\n",
       "    </tr>\n",
       "    <tr>\n",
       "      <th>2018-10-02</th>\n",
       "      <td>0.008888</td>\n",
       "      <td>-0.019146</td>\n",
       "      <td>0.004016</td>\n",
       "      <td>-0.003978</td>\n",
       "      <td>0.000133</td>\n",
       "    </tr>\n",
       "    <tr>\n",
       "      <th>2018-10-03</th>\n",
       "      <td>0.012169</td>\n",
       "      <td>0.019456</td>\n",
       "      <td>0.002366</td>\n",
       "      <td>0.000173</td>\n",
       "      <td>0.003038</td>\n",
       "    </tr>\n",
       "    <tr>\n",
       "      <th>2018-10-04</th>\n",
       "      <td>-0.017581</td>\n",
       "      <td>-0.022040</td>\n",
       "      <td>-0.028896</td>\n",
       "      <td>-0.020664</td>\n",
       "      <td>-0.018042</td>\n",
       "    </tr>\n",
       "    <tr>\n",
       "      <th>2018-10-05</th>\n",
       "      <td>-0.016229</td>\n",
       "      <td>-0.009569</td>\n",
       "      <td>-0.009279</td>\n",
       "      <td>-0.005852</td>\n",
       "      <td>-0.012608</td>\n",
       "    </tr>\n",
       "  </tbody>\n",
       "</table>\n",
       "</div>"
      ],
      "text/plain": [
       "            AAPL_Ret    FB_Ret  GOOG_Ret  MSFT_Ret   XLK_Ret\n",
       "Dt                                                          \n",
       "2018-10-01  0.006733 -0.012283  0.001542  0.010842  0.004779\n",
       "2018-10-02  0.008888 -0.019146  0.004016 -0.003978  0.000133\n",
       "2018-10-03  0.012169  0.019456  0.002366  0.000173  0.003038\n",
       "2018-10-04 -0.017581 -0.022040 -0.028896 -0.020664 -0.018042\n",
       "2018-10-05 -0.016229 -0.009569 -0.009279 -0.005852 -0.012608"
      ]
     },
     "execution_count": 40,
     "metadata": {},
     "output_type": "execute_result"
    }
   ],
   "source": [
    "# Transformations: Transform the Test Data\n",
    "test_data_ret_3 = (helper.renamePriceToRet(getReturns(test_data_price_3)))[test_start_dt_3:]\n",
    "\n",
    "X_test_3, y_test_3 = test_data_ret_3.drop(columns = ['AAPL_Ret']), test_data_ret_3[['AAPL_Ret']]\n",
    "\n",
    "print(\"test data length 3\", test_data_ret_3.shape[0])\n",
    "print(\"X test length 3\", X_test_3.shape[0])\n",
    "print(\"y test length 3\", y_test_3.shape[0])\n",
    "print(X_test_3.head())\n",
    "print(y_test_3.head())\n",
    "test_data_ret_3.head()"
   ]
  },
  {
   "cell_type": "code",
   "execution_count": 41,
   "metadata": {},
   "outputs": [
    {
     "name": "stdout",
     "output_type": "stream",
     "text": [
      "AAPL: beta_0=0.001, beta_FB=-0.148, beta_GOOG=-0.282, beta_MSFT=-0.519, beta_XLK=2.082\n"
     ]
    }
   ],
   "source": [
    "# Train the Model (Regression)\n",
    "beta_0, beta_FB, beta_GOOG, beta_MSFT, beta_XLK = regress(regr, X_train_3, y_train_3)\n",
    "\n",
    "\n",
    "print(\"{t:s}: beta_0={b0:3.3f}, beta_FB={b1:3.3f}, beta_GOOG={b2:3.3f}, beta_MSFT={b3:3.3f}, beta_XLK={b4:3.3f}\"\n",
    "      .format(t='AAPL', b0=beta_0, b1=beta_FB, b2=beta_GOOG, b3=beta_MSFT, b4=beta_XLK))"
   ]
  },
  {
   "cell_type": "code",
   "execution_count": 42,
   "metadata": {},
   "outputs": [
    {
     "name": "stdout",
     "output_type": "stream",
     "text": [
      "AAPL: Avg cross val score 3 = 0.60\n"
     ]
    }
   ],
   "source": [
    "# Train the Model Using Cross Validation\n",
    "cross_val_avg_3 = compute_cross_val_avg(regr, X_train_3, y_train_3, 5)\n",
    "print(\"{t:s}: Avg cross val score 3 = {sc:3.2f}\".format(t='AAPL', sc=cross_val_avg_3) )"
   ]
  },
  {
   "cell_type": "code",
   "execution_count": 43,
   "metadata": {},
   "outputs": [
    {
     "name": "stdout",
     "output_type": "stream",
     "text": [
      "In Sample Root Mean squared error 3: 0.008\n",
      "Out of Sample Root Mean squared error 3: 0.010\n"
     ]
    }
   ],
   "source": [
    "# Evaluate Loss (In Sample RMSE) and Performance (Out of Sample RMSE)\n",
    "\n",
    "# Predicted  in-sample returns of AAPL using new features\n",
    "aapl_predicted_in_sample_3 = regr.predict(X_train_3)\n",
    "# Predicted out-of-sample returns of AAPL using new features\n",
    "aapl_predicted_out_sample_3 = regr.predict(X_test_3)\n",
    "\n",
    "rmse_in_sample_3 = computeRMSE(y_train_3, aapl_predicted_in_sample_3)\n",
    "rmse_out_sample_3 = computeRMSE(y_test_3, aapl_predicted_out_sample_3)\n",
    "\n",
    "print(\"In Sample Root Mean squared error 3: {:.3f}\".format( rmse_in_sample_3 ) )\n",
    "print(\"Out of Sample Root Mean squared error 3: {:.3f}\".format( rmse_out_sample_3 ) )"
   ]
  },
  {
   "cell_type": "code",
   "execution_count": 44,
   "metadata": {},
   "outputs": [],
   "source": [
    "# The result of model 3 shows that \"Average cross validation score\", \"In sample RMSE\", and \"Out of sample RMSE\" all\n",
    "# improve by comparing to the previous model. \n",
    "# To illustrate, the \"Average cross validatin score\" increases from 0.32 to 0.6. Moreover,  \"In sample RMSE\" and \n",
    "# \"Out of Sample RMSE\" both decrease to some extent from model 2.\n",
    "# Therefore, model 3 with features FB, GOOG, MSFT, and XLK is more powerful and accuracy to predict and analyze the\n",
    "# return of AAPL."
   ]
  }
 ],
 "metadata": {
  "kernelspec": {
   "display_name": "Python 3",
   "language": "python",
   "name": "python3"
  },
  "language_info": {
   "codemirror_mode": {
    "name": "ipython",
    "version": 3
   },
   "file_extension": ".py",
   "mimetype": "text/x-python",
   "name": "python",
   "nbconvert_exporter": "python",
   "pygments_lexer": "ipython3",
   "version": "3.7.6"
  },
  "toc": {
   "base_numbering": 1,
   "nav_menu": {},
   "number_sections": true,
   "sideBar": true,
   "skip_h1_title": false,
   "title_cell": "Table of Contents",
   "title_sidebar": "Contents",
   "toc_cell": false,
   "toc_position": {
    "height": "calc(100% - 180px)",
    "left": "10px",
    "top": "150px",
    "width": "370.594px"
   },
   "toc_section_display": true,
   "toc_window_display": true
  }
 },
 "nbformat": 4,
 "nbformat_minor": 2
}
